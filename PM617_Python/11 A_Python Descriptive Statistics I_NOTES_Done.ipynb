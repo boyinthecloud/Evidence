{
 "cells": [
  {
   "cell_type": "markdown",
   "metadata": {
    "colab_type": "text",
    "id": "ZvNsvUNNlZbi"
   },
   "source": [
    "---\n",
    "# Crash Course Python for Data Science - Intro to Statistics \n",
    "---\n",
    "# 01 - Descriptive Statistics I\n",
    "---\n",
    "\n"
   ]
  },
  {
   "cell_type": "markdown",
   "metadata": {
    "colab_type": "text",
    "id": "o57NvhYkBjKH"
   },
   "source": [
    "## How to think about descriptive statistics\n",
    "\n",
    "As the name suggests, descriptive statistics refer to the ways in which you can describe the data you're working with. Data can have many varied characteristics, all of which can tell you something about that data. Let's begin with *measures of central tendency*.  \n",
    "\n",
    "\n"
   ]
  },
  {
   "cell_type": "markdown",
   "metadata": {
    "colab_type": "text",
    "id": "bvrPhiq3Hb8T"
   },
   "source": [
    "## What is central tendency?\n",
    "You're part of a group of about 30  students here trying to learn a bit of Python. Chances are, if asked, you'd be able to compute the average age of this group. The thing is, not all averages are the same. And what's the point of an average, anyway?\n",
    "\n",
    "\n",
    "First of all, you can think of an *average* as a single value that best represents a group of values.\n",
    "\n",
    "Now, *averages* (the plural) can be considered interchangeable with *central tendency*. In other words, central tendency = the value(s) that best represents a group of values.\n",
    "\n",
    "**There are three main measures of central tendency:**\n",
    "1.   Mean \n",
    "2.   Median\n",
    "3.   Mode\n",
    "\n",
    "\n",
    "\n"
   ]
  },
  {
   "cell_type": "code",
   "execution_count": 1,
   "metadata": {
    "colab": {},
    "colab_type": "code",
    "id": "H8VizdOX16Ze"
   },
   "outputs": [
    {
     "name": "stdout",
     "output_type": "stream",
     "text": [
      "Libraries imported\n"
     ]
    }
   ],
   "source": [
    "# Let's begin by importing our tools:\n",
    "import numpy as np\n",
    "import pandas as pd\n",
    "import matplotlib.pyplot as plt\n",
    "\n",
    "plt.style.use(style='ggplot') \n",
    "plt.rcParams['figure.figsize'] = (10, 6)\n",
    "\n",
    "print('Libraries imported')"
   ]
  },
  {
   "cell_type": "markdown",
   "metadata": {
    "colab_type": "text",
    "id": "4prc9nH_usRh"
   },
   "source": [
    "## Mean\n",
    "\n",
    "**The *mean* of a group of values is derived by adding all of the values together, and then dividing them by the number of values there are. When most people hear the word \"average,\" this is what they think of.** \n",
    "\n",
    "\n",
    "\n",
    "\n"
   ]
  },
  {
   "cell_type": "code",
   "execution_count": 2,
   "metadata": {
    "colab": {},
    "colab_type": "code",
    "id": "DxJgXg1e2SVq"
   },
   "outputs": [
    {
     "data": {
      "text/plain": [
       "122.0"
      ]
     },
     "execution_count": 2,
     "metadata": {},
     "output_type": "execute_result"
    }
   ],
   "source": [
    "# Let's create a group of values using a normal Python list:\n",
    "numbers = [12, 12, 13, 11, 24, 55, 23, 87, 65, 40, 1000]\n",
    "\n",
    "def mean(nums):\n",
    "  return sum(nums) / len(nums)\n",
    "\n",
    "mean(numbers)"
   ]
  },
  {
   "cell_type": "code",
   "execution_count": 3,
   "metadata": {
    "colab": {},
    "colab_type": "code",
    "id": "F-wSCBYl2yEQ"
   },
   "outputs": [
    {
     "data": {
      "text/plain": [
       "122.0"
      ]
     },
     "execution_count": 3,
     "metadata": {},
     "output_type": "execute_result"
    }
   ],
   "source": [
    "# Numpy has a built-in function for finding the mean:\n",
    "\n",
    "np.mean(numbers)"
   ]
  },
  {
   "cell_type": "markdown",
   "metadata": {
    "colab_type": "text",
    "id": "8IuwgjfY3igi"
   },
   "source": [
    "Numpy [documentation](https://docs.scipy.org/doc/numpy/reference/generated/numpy.mean.html) on mean function."
   ]
  },
  {
   "cell_type": "markdown",
   "metadata": {
    "colab_type": "text",
    "id": "CJx5z_743yGl"
   },
   "source": [
    "## Median\n",
    "\n",
    "**The *median* of a group of values is derived by ordering all of the values, then finding their midpoint. In other words, the value that is equidistant from the largest and the smallest value in the set of values.** \n",
    "\n",
    "\n",
    "\n",
    "\n"
   ]
  },
  {
   "cell_type": "code",
   "execution_count": 12,
   "metadata": {
    "colab": {},
    "colab_type": "code",
    "id": "WHMup7T1UNXK"
   },
   "outputs": [
    {
     "data": {
      "text/plain": [
       "[11, 12, 12, 13, 13, 23, 24, 40, 55, 65, 87, 1000]"
      ]
     },
     "execution_count": 12,
     "metadata": {},
     "output_type": "execute_result"
    }
   ],
   "source": [
    "numbers = [12, 12, 13, 13, 11, 24, 55, 23, 87, 65, 40, 1000]\n",
    "sorted(numbers)"
   ]
  },
  {
   "cell_type": "code",
   "execution_count": 14,
   "metadata": {
    "colab": {},
    "colab_type": "code",
    "id": "I7672d3C4lI7"
   },
   "outputs": [
    {
     "data": {
      "text/plain": [
       "23.5"
      ]
     },
     "execution_count": 14,
     "metadata": {},
     "output_type": "execute_result"
    }
   ],
   "source": [
    "def median(nums):\n",
    "  n = len(nums)\n",
    "  if n < 1:\n",
    "    return None\n",
    "  if n % 2 == 1:\n",
    "    return sorted(nums)[n//2]\n",
    "  else:\n",
    "    return sum(sorted(nums)[n//2-1:n//2+1])/2.0\n",
    "  \n",
    "median(numbers)"
   ]
  },
  {
   "cell_type": "code",
   "execution_count": 0,
   "metadata": {
    "colab": {},
    "colab_type": "code",
    "id": "0Jzg2mmm4lH2"
   },
   "outputs": [],
   "source": [
    "np.median(numbers)"
   ]
  },
  {
   "cell_type": "markdown",
   "metadata": {
    "colab_type": "text",
    "id": "cdAAFRfv_p0-"
   },
   "source": [
    "### A note about median vs. mean:\n",
    "\n",
    "The mean is more susceptible than the median to being pulled in the direction of \"outliers.\" For now, just think about outliers as values that are either really big or really small relative to the mean."
   ]
  },
  {
   "cell_type": "markdown",
   "metadata": {
    "colab_type": "text",
    "id": "xOabwRmI5W1A"
   },
   "source": [
    "## Mode\n",
    "\n",
    "**The *mode* of a set of values is the value which occurs with the highest frequency. In other words, the most common value.** \n",
    "\n",
    "\n",
    "\n",
    "\n"
   ]
  },
  {
   "cell_type": "code",
   "execution_count": 0,
   "metadata": {
    "colab": {},
    "colab_type": "code",
    "id": "ADvYzMuC5kak"
   },
   "outputs": [],
   "source": [
    "# Numpy has no built-in function for mode, but the Python ecosystem does have a dedicated statistics library:\n",
    "\n",
    "import statistics as stats\n",
    "stats.mode(numbers)"
   ]
  },
  {
   "cell_type": "markdown",
   "metadata": {
    "colab_type": "text",
    "id": "adn8ByMX5_cC"
   },
   "source": [
    "Statistics library [documentation](https://docs.scipy.org/doc/scipy/reference/stats.html)."
   ]
  },
  {
   "cell_type": "markdown",
   "metadata": {
    "colab_type": "text",
    "id": "etBxJkqu6qFg"
   },
   "source": [
    "## Different types of variables in statistics\n",
    "\n",
    "Obviously, not all data are the same. For some, their order matters. Others represent categories instead of numbers. Again, this is paralleled in how Python represents different variables with different data types. If you recall the module on Python variables, not all variables are equal in their representation of values. Let's quickly cover the basic types of variables in statistics:\n",
    "\n",
    "\n",
    "\n",
    "*   **Ordinal**: can be ordered/ranked (historical financial data, time series data, etc.)\n",
    "*   **Categorical (or Discrete)**: categories like gender, political affiliation, or binaries (voted/didn't vote)\n",
    "*   **Numeric**: numbers, either discrete or continuous\n",
    "\n"
   ]
  },
  {
   "cell_type": "markdown",
   "metadata": {
    "colab_type": "text",
    "id": "SvG_NwlXBrLp"
   },
   "source": [
    "**Let's put this all together with a familiar dataset:**"
   ]
  },
  {
   "cell_type": "code",
   "execution_count": 15,
   "metadata": {
    "colab": {},
    "colab_type": "code",
    "id": "XaymoRVL5-mk"
   },
   "outputs": [
    {
     "data": {
      "text/html": [
       "<div>\n",
       "<style scoped>\n",
       "    .dataframe tbody tr th:only-of-type {\n",
       "        vertical-align: middle;\n",
       "    }\n",
       "\n",
       "    .dataframe tbody tr th {\n",
       "        vertical-align: top;\n",
       "    }\n",
       "\n",
       "    .dataframe thead th {\n",
       "        text-align: right;\n",
       "    }\n",
       "</style>\n",
       "<table border=\"1\" class=\"dataframe\">\n",
       "  <thead>\n",
       "    <tr style=\"text-align: right;\">\n",
       "      <th></th>\n",
       "      <th>total_bill</th>\n",
       "      <th>tip</th>\n",
       "      <th>sex</th>\n",
       "      <th>smoker</th>\n",
       "      <th>day</th>\n",
       "      <th>time</th>\n",
       "      <th>size</th>\n",
       "    </tr>\n",
       "  </thead>\n",
       "  <tbody>\n",
       "    <tr>\n",
       "      <th>0</th>\n",
       "      <td>16.99</td>\n",
       "      <td>1.01</td>\n",
       "      <td>Female</td>\n",
       "      <td>No</td>\n",
       "      <td>Sun</td>\n",
       "      <td>Dinner</td>\n",
       "      <td>2</td>\n",
       "    </tr>\n",
       "    <tr>\n",
       "      <th>1</th>\n",
       "      <td>10.34</td>\n",
       "      <td>1.66</td>\n",
       "      <td>Male</td>\n",
       "      <td>No</td>\n",
       "      <td>Sun</td>\n",
       "      <td>Dinner</td>\n",
       "      <td>3</td>\n",
       "    </tr>\n",
       "    <tr>\n",
       "      <th>2</th>\n",
       "      <td>21.01</td>\n",
       "      <td>3.50</td>\n",
       "      <td>Male</td>\n",
       "      <td>No</td>\n",
       "      <td>Sun</td>\n",
       "      <td>Dinner</td>\n",
       "      <td>3</td>\n",
       "    </tr>\n",
       "    <tr>\n",
       "      <th>3</th>\n",
       "      <td>23.68</td>\n",
       "      <td>3.31</td>\n",
       "      <td>Male</td>\n",
       "      <td>No</td>\n",
       "      <td>Sun</td>\n",
       "      <td>Dinner</td>\n",
       "      <td>2</td>\n",
       "    </tr>\n",
       "    <tr>\n",
       "      <th>4</th>\n",
       "      <td>24.59</td>\n",
       "      <td>3.61</td>\n",
       "      <td>Female</td>\n",
       "      <td>No</td>\n",
       "      <td>Sun</td>\n",
       "      <td>Dinner</td>\n",
       "      <td>4</td>\n",
       "    </tr>\n",
       "  </tbody>\n",
       "</table>\n",
       "</div>"
      ],
      "text/plain": [
       "   total_bill   tip     sex smoker  day    time  size\n",
       "0       16.99  1.01  Female     No  Sun  Dinner     2\n",
       "1       10.34  1.66    Male     No  Sun  Dinner     3\n",
       "2       21.01  3.50    Male     No  Sun  Dinner     3\n",
       "3       23.68  3.31    Male     No  Sun  Dinner     2\n",
       "4       24.59  3.61  Female     No  Sun  Dinner     4"
      ]
     },
     "execution_count": 15,
     "metadata": {},
     "output_type": "execute_result"
    }
   ],
   "source": [
    "# Simply run this cell to import the tips dataset:\n",
    "\n",
    "df = pd.read_csv(\"https://raw.githubusercontent.com/axrd/datasets/master/tipdata.csv\", index_col=0)\n",
    "df.head()"
   ]
  },
  {
   "cell_type": "markdown",
   "metadata": {
    "colab_type": "text",
    "id": "YpuZMA4nCkIk"
   },
   "source": [
    "*   **total_bill** is continuous, ordinal, and numeric\n",
    "*   **tip** is also continuous, ordinal, and numeric\n",
    "*   **sex** is categorical or discrete; it's also binary (male vs. female)\n",
    "*   **smoker** same as *sex*\n",
    "*   **day** is categorical but not binary (there are 7 categories, 1 for each day of the week)\n",
    "*   **time** is categorical (discrete)\n",
    "*   **size** is numeric and categorical/discrete (can't have 3.4 people at a table)\n",
    "\n"
   ]
  },
  {
   "cell_type": "markdown",
   "metadata": {
    "colab_type": "text",
    "id": "U4byQK5hBxJU"
   },
   "source": [
    "## Distributions!\n",
    "\n",
    "**At the end of the Intro to Pandas lesson, we introduced visualizations because a *picture is worth a thousand words.* Let's do the same here so we can see what's going on more easily.**\n",
    "\n"
   ]
  },
  {
   "cell_type": "code",
   "execution_count": 16,
   "metadata": {
    "colab": {},
    "colab_type": "code",
    "id": "IKjTeeUiEvvB"
   },
   "outputs": [
    {
     "data": {
      "text/plain": [
       "[861,\n",
       " 784,\n",
       " 849,\n",
       " 84,\n",
       " 70,\n",
       " 629,\n",
       " 51,\n",
       " 155,\n",
       " 188,\n",
       " 93,\n",
       " 491,\n",
       " 798,\n",
       " 343,\n",
       " 725,\n",
       " 809,\n",
       " 450,\n",
       " 232,\n",
       " 229,\n",
       " 151,\n",
       " 805,\n",
       " 958,\n",
       " 982,\n",
       " 762,\n",
       " 549,\n",
       " 111,\n",
       " 520,\n",
       " 807,\n",
       " 649,\n",
       " 195,\n",
       " 920,\n",
       " 427,\n",
       " 737,\n",
       " 47,\n",
       " 95,\n",
       " 671,\n",
       " 839,\n",
       " 847,\n",
       " 174,\n",
       " 884,\n",
       " 207,\n",
       " 11,\n",
       " 779,\n",
       " 686,\n",
       " 452,\n",
       " 227,\n",
       " 67,\n",
       " 286,\n",
       " 60,\n",
       " 493,\n",
       " 953,\n",
       " 636,\n",
       " 130,\n",
       " 259,\n",
       " 667,\n",
       " 26,\n",
       " 675,\n",
       " 923,\n",
       " 556,\n",
       " 922,\n",
       " 538,\n",
       " 772,\n",
       " 324,\n",
       " 597,\n",
       " 523,\n",
       " 701,\n",
       " 21,\n",
       " 628,\n",
       " 569,\n",
       " 881,\n",
       " 294,\n",
       " 822,\n",
       " 55,\n",
       " 459,\n",
       " 832,\n",
       " 86,\n",
       " 313,\n",
       " 522,\n",
       " 470,\n",
       " 350,\n",
       " 639,\n",
       " 910,\n",
       " 184,\n",
       " 119,\n",
       " 50,\n",
       " 901,\n",
       " 428,\n",
       " 681,\n",
       " 423,\n",
       " 988,\n",
       " 202,\n",
       " 59,\n",
       " 69,\n",
       " 738,\n",
       " 299,\n",
       " 200,\n",
       " 614,\n",
       " 878,\n",
       " 362,\n",
       " 241,\n",
       " 322,\n",
       " 589,\n",
       " 634,\n",
       " 490,\n",
       " 853,\n",
       " 83,\n",
       " 76,\n",
       " 129,\n",
       " 418,\n",
       " 535,\n",
       " 79,\n",
       " 30,\n",
       " 92,\n",
       " 356,\n",
       " 986,\n",
       " 498,\n",
       " 517,\n",
       " 995,\n",
       " 128,\n",
       " 808,\n",
       " 886,\n",
       " 290,\n",
       " 340,\n",
       " 792,\n",
       " 829,\n",
       " 659,\n",
       " 379,\n",
       " 980,\n",
       " 5,\n",
       " 502,\n",
       " 353,\n",
       " 221,\n",
       " 239,\n",
       " 693,\n",
       " 745,\n",
       " 521,\n",
       " 492,\n",
       " 938,\n",
       " 813,\n",
       " 929,\n",
       " 600,\n",
       " 123,\n",
       " 856,\n",
       " 509,\n",
       " 71,\n",
       " 99,\n",
       " 116,\n",
       " 13,\n",
       " 575,\n",
       " 230,\n",
       " 107,\n",
       " 31,\n",
       " 902,\n",
       " 208,\n",
       " 473,\n",
       " 841,\n",
       " 827,\n",
       " 981,\n",
       " 96,\n",
       " 527,\n",
       " 880,\n",
       " 33,\n",
       " 400,\n",
       " 19,\n",
       " 810,\n",
       " 2,\n",
       " 209,\n",
       " 586,\n",
       " 787,\n",
       " 919,\n",
       " 304,\n",
       " 592,\n",
       " 163,\n",
       " 748,\n",
       " 974,\n",
       " 429,\n",
       " 24,\n",
       " 360,\n",
       " 593,\n",
       " 801,\n",
       " 451,\n",
       " 276,\n",
       " 42,\n",
       " 926,\n",
       " 17,\n",
       " 728,\n",
       " 251,\n",
       " 349,\n",
       " 258,\n",
       " 653,\n",
       " 413,\n",
       " 197,\n",
       " 38,\n",
       " 332,\n",
       " 970,\n",
       " 296,\n",
       " 159,\n",
       " 596,\n",
       " 87,\n",
       " 677,\n",
       " 392,\n",
       " 638,\n",
       " 293,\n",
       " 525,\n",
       " 516,\n",
       " 608,\n",
       " 250,\n",
       " 771,\n",
       " 891,\n",
       " 927,\n",
       " 36,\n",
       " 455,\n",
       " 774,\n",
       " 819,\n",
       " 433,\n",
       " 573,\n",
       " 985,\n",
       " 957,\n",
       " 945,\n",
       " 25,\n",
       " 180,\n",
       " 869,\n",
       " 125,\n",
       " 613,\n",
       " 441,\n",
       " 846,\n",
       " 145,\n",
       " 994,\n",
       " 127,\n",
       " 264,\n",
       " 621,\n",
       " 720,\n",
       " 823,\n",
       " 781,\n",
       " 384,\n",
       " 511,\n",
       " 172,\n",
       " 576,\n",
       " 831,\n",
       " 692,\n",
       " 37,\n",
       " 383,\n",
       " 694,\n",
       " 374,\n",
       " 82,\n",
       " 833,\n",
       " 133,\n",
       " 545,\n",
       " 484,\n",
       " 941,\n",
       " 641]"
      ]
     },
     "execution_count": 16,
     "metadata": {},
     "output_type": "execute_result"
    }
   ],
   "source": [
    "# Let's make a list of 250 random numbers between 1 and 1000 and assign\n",
    "# it to a variable \"a\":\n",
    "\n",
    "import random\n",
    "a = random.sample(range(1, 1000), 250)\n",
    "a"
   ]
  },
  {
   "cell_type": "code",
   "execution_count": 17,
   "metadata": {
    "colab": {},
    "colab_type": "code",
    "id": "gHcFqcqbGbCt"
   },
   "outputs": [
    {
     "data": {
      "image/png": "[encoded data removed]",
      "text/plain": [
       "<Figure size 1000x600 with 1 Axes>"
      ]
     },
     "metadata": {},
     "output_type": "display_data"
    }
   ],
   "source": [
    "# Let's turn it into a pandas DataFrame and plot it to visualize the distribution \n",
    "# of numbers:\n",
    "data = pd.DataFrame({'random_nums': a}) \n",
    "\n",
    "data['random_nums'].hist();"
   ]
  },
  {
   "cell_type": "code",
   "execution_count": 18,
   "metadata": {
    "colab": {},
    "colab_type": "code",
    "id": "BVoaElm-GK0i"
   },
   "outputs": [
    {
     "data": {
      "text/plain": [
       "484.644"
      ]
     },
     "execution_count": 18,
     "metadata": {},
     "output_type": "execute_result"
    }
   ],
   "source": [
    "np.mean(data['random_nums'])"
   ]
  },
  {
   "cell_type": "code",
   "execution_count": 19,
   "metadata": {
    "colab": {},
    "colab_type": "code",
    "id": "W9AlK746GTYk"
   },
   "outputs": [
    {
     "data": {
      "text/plain": [
       "495.5"
      ]
     },
     "execution_count": 19,
     "metadata": {},
     "output_type": "execute_result"
    }
   ],
   "source": [
    "np.median(data['random_nums'])"
   ]
  },
  {
   "cell_type": "markdown",
   "metadata": {
    "colab_type": "text",
    "id": "MgUzTy5WG8UJ"
   },
   "source": [
    "If you run the cell with the random number generator, it will create a new random list. Run the plotting cell again to visualize the new list of random numbers. Check out the different distributions of values! What can you say about their central tendency?"
   ]
  },
  {
   "cell_type": "markdown",
   "metadata": {
    "colab_type": "text",
    "id": "uERW3JINAal1"
   },
   "source": [
    "### Skewness: left, right, or middle?"
   ]
  },
  {
   "cell_type": "markdown",
   "metadata": {
    "colab_type": "text",
    "id": "OHJtKr1_BYlA"
   },
   "source": [
    "![Skewness](https://cdn-images-1.medium.com/max/1600/1*nj-Ch3AUFmkd0JUSOW_bTQ.jpeg)"
   ]
  },
  {
   "cell_type": "markdown",
   "metadata": {
    "colab_type": "text",
    "id": "lTm--zmGECkQ"
   },
   "source": [
    "## Variability: how spread out is our data?\n",
    "\n",
    "**Also known as the *spread* of a set of values, variability measures how different they are from each other. More intuitively, variability is a measure of how far values are from one specific value. Can you guess which one? Hint, how can you describe a group of values with just one value?**\n",
    "\n",
    "\n",
    "\n",
    "*   **Range**: the difference between the largest and smallest values in a set.\n",
    "*   **Variance**: the difference between the largest and smallest values in a set.\n",
    "*   **Standard deviation**: the average distance from the mean.\n",
    "\n"
   ]
  },
  {
   "cell_type": "code",
   "execution_count": 20,
   "metadata": {
    "colab": {},
    "colab_type": "code",
    "id": "SEAg6CF_B2lT"
   },
   "outputs": [
    {
     "data": {
      "text/html": [
       "<div>\n",
       "<style scoped>\n",
       "    .dataframe tbody tr th:only-of-type {\n",
       "        vertical-align: middle;\n",
       "    }\n",
       "\n",
       "    .dataframe tbody tr th {\n",
       "        vertical-align: top;\n",
       "    }\n",
       "\n",
       "    .dataframe thead th {\n",
       "        text-align: right;\n",
       "    }\n",
       "</style>\n",
       "<table border=\"1\" class=\"dataframe\">\n",
       "  <thead>\n",
       "    <tr style=\"text-align: right;\">\n",
       "      <th></th>\n",
       "      <th>Name</th>\n",
       "      <th>Region</th>\n",
       "      <th>Company</th>\n",
       "      <th>Date</th>\n",
       "      <th>Sales</th>\n",
       "    </tr>\n",
       "  </thead>\n",
       "  <tbody>\n",
       "    <tr>\n",
       "      <th>0</th>\n",
       "      <td>Brenden Cote</td>\n",
       "      <td>Central African Republic</td>\n",
       "      <td>Metus Corp.</td>\n",
       "      <td>Feb 17, 2018</td>\n",
       "      <td>67044</td>\n",
       "    </tr>\n",
       "    <tr>\n",
       "      <th>1</th>\n",
       "      <td>Justina Reed</td>\n",
       "      <td>Namibia</td>\n",
       "      <td>Lobortis Ltd</td>\n",
       "      <td>Apr 27, 2017</td>\n",
       "      <td>89517</td>\n",
       "    </tr>\n",
       "    <tr>\n",
       "      <th>2</th>\n",
       "      <td>Daquan Vinson</td>\n",
       "      <td>Svalbard and Jan Mayen Islands</td>\n",
       "      <td>A Mi Consulting</td>\n",
       "      <td>Aug 14, 2016</td>\n",
       "      <td>62705</td>\n",
       "    </tr>\n",
       "    <tr>\n",
       "      <th>3</th>\n",
       "      <td>Connor Shelton</td>\n",
       "      <td>Niue</td>\n",
       "      <td>Parturient Consulting</td>\n",
       "      <td>Feb 13, 2017</td>\n",
       "      <td>12675</td>\n",
       "    </tr>\n",
       "    <tr>\n",
       "      <th>4</th>\n",
       "      <td>Drew Carlson</td>\n",
       "      <td>Mayotte</td>\n",
       "      <td>Interdum Associates</td>\n",
       "      <td>Sep 26, 2017</td>\n",
       "      <td>86670</td>\n",
       "    </tr>\n",
       "  </tbody>\n",
       "</table>\n",
       "</div>"
      ],
      "text/plain": [
       "             Name                          Region                Company  \\\n",
       "0    Brenden Cote        Central African Republic            Metus Corp.   \n",
       "1    Justina Reed                         Namibia           Lobortis Ltd   \n",
       "2   Daquan Vinson  Svalbard and Jan Mayen Islands        A Mi Consulting   \n",
       "3  Connor Shelton                            Niue  Parturient Consulting   \n",
       "4    Drew Carlson                         Mayotte    Interdum Associates   \n",
       "\n",
       "           Date  Sales  \n",
       "0  Feb 17, 2018  67044  \n",
       "1  Apr 27, 2017  89517  \n",
       "2  Aug 14, 2016  62705  \n",
       "3  Feb 13, 2017  12675  \n",
       "4  Sep 26, 2017  86670  "
      ]
     },
     "execution_count": 20,
     "metadata": {},
     "output_type": "execute_result"
    }
   ],
   "source": [
    "# Let's get sales performance data from the sales dataset we've used previously:\n",
    "\n",
    "sales = pd.read_csv(\"https://raw.githubusercontent.com/axrd/datasets/master/sales_data.csv\", index_col=0)\n",
    "sales.head()"
   ]
  },
  {
   "cell_type": "code",
   "execution_count": 21,
   "metadata": {
    "colab": {},
    "colab_type": "code",
    "id": "4TL11Y77B2xx"
   },
   "outputs": [
    {
     "data": {
      "image/png": "[encoded data removed]",
      "text/plain": [
       "<Figure size 1000x600 with 1 Axes>"
      ]
     },
     "metadata": {},
     "output_type": "display_data"
    }
   ],
   "source": [
    "sales['Sales'].hist(bins=10);"
   ]
  },
  {
   "cell_type": "code",
   "execution_count": 22,
   "metadata": {
    "colab": {},
    "colab_type": "code",
    "id": "_8SwvrBwIH0E"
   },
   "outputs": [
    {
     "data": {
      "text/plain": [
       "51892.47"
      ]
     },
     "execution_count": 22,
     "metadata": {},
     "output_type": "execute_result"
    }
   ],
   "source": [
    "np.mean(sales['Sales'])"
   ]
  },
  {
   "cell_type": "code",
   "execution_count": 23,
   "metadata": {
    "colab": {},
    "colab_type": "code",
    "id": "erpUF_59FTNl"
   },
   "outputs": [
    {
     "data": {
      "text/plain": [
       "882506150.9788889"
      ]
     },
     "execution_count": 23,
     "metadata": {},
     "output_type": "execute_result"
    }
   ],
   "source": [
    "# Let's calculate the variance:\n",
    "# Variance is the average squared distance of each point from the mean\n",
    "np.var(sales['Sales'], ddof=1)"
   ]
  },
  {
   "cell_type": "code",
   "execution_count": 24,
   "metadata": {
    "colab": {},
    "colab_type": "code",
    "id": "5yY6KM2qWjG6"
   },
   "outputs": [
    {
     "data": {
      "text/plain": [
       "29707.00508262132"
      ]
     },
     "execution_count": 24,
     "metadata": {},
     "output_type": "execute_result"
    }
   ],
   "source": [
    "# Lets calculate the standard deviation:\n",
    "# Standard Deviation is the average distance of each point from the mean\n",
    "np.std(sales['Sales'], ddof=1)"
   ]
  },
  {
   "cell_type": "code",
   "execution_count": 25,
   "metadata": {
    "colab": {},
    "colab_type": "code",
    "id": "BNIckBEDWsHK"
   },
   "outputs": [
    {
     "data": {
      "text/plain": [
       "29707.00508262132"
      ]
     },
     "execution_count": 25,
     "metadata": {},
     "output_type": "execute_result"
    }
   ],
   "source": [
    "# The Standard Deviation is the Square Root of the variance. \n",
    "np.sqrt(np.var(sales['Sales'], ddof=1))"
   ]
  },
  {
   "cell_type": "code",
   "execution_count": 26,
   "metadata": {
    "colab": {},
    "colab_type": "code",
    "id": "BiNqEyl5B204"
   },
   "outputs": [
    {
     "data": {
      "text/html": [
       "<div>\n",
       "<style scoped>\n",
       "    .dataframe tbody tr th:only-of-type {\n",
       "        vertical-align: middle;\n",
       "    }\n",
       "\n",
       "    .dataframe tbody tr th {\n",
       "        vertical-align: top;\n",
       "    }\n",
       "\n",
       "    .dataframe thead th {\n",
       "        text-align: right;\n",
       "    }\n",
       "</style>\n",
       "<table border=\"1\" class=\"dataframe\">\n",
       "  <thead>\n",
       "    <tr style=\"text-align: right;\">\n",
       "      <th></th>\n",
       "      <th>Sales</th>\n",
       "    </tr>\n",
       "  </thead>\n",
       "  <tbody>\n",
       "    <tr>\n",
       "      <th>count</th>\n",
       "      <td>100.000000</td>\n",
       "    </tr>\n",
       "    <tr>\n",
       "      <th>mean</th>\n",
       "      <td>51892.470000</td>\n",
       "    </tr>\n",
       "    <tr>\n",
       "      <th>std</th>\n",
       "      <td>29707.005083</td>\n",
       "    </tr>\n",
       "    <tr>\n",
       "      <th>min</th>\n",
       "      <td>59.000000</td>\n",
       "    </tr>\n",
       "    <tr>\n",
       "      <th>25%</th>\n",
       "      <td>29415.750000</td>\n",
       "    </tr>\n",
       "    <tr>\n",
       "      <th>50%</th>\n",
       "      <td>48845.500000</td>\n",
       "    </tr>\n",
       "    <tr>\n",
       "      <th>75%</th>\n",
       "      <td>77878.000000</td>\n",
       "    </tr>\n",
       "    <tr>\n",
       "      <th>max</th>\n",
       "      <td>99880.000000</td>\n",
       "    </tr>\n",
       "  </tbody>\n",
       "</table>\n",
       "</div>"
      ],
      "text/plain": [
       "              Sales\n",
       "count    100.000000\n",
       "mean   51892.470000\n",
       "std    29707.005083\n",
       "min       59.000000\n",
       "25%    29415.750000\n",
       "50%    48845.500000\n",
       "75%    77878.000000\n",
       "max    99880.000000"
      ]
     },
     "execution_count": 26,
     "metadata": {},
     "output_type": "execute_result"
    }
   ],
   "source": [
    "# Here's a really useful built-in pandas method to get some summary descriptive\n",
    "# statistics:\n",
    "\n",
    "sales.describe()"
   ]
  },
  {
   "cell_type": "markdown",
   "metadata": {
    "colab_type": "text",
    "id": "7BqbpyNyzxqk"
   },
   "source": [
    "### And that's it. Don't forget to do your exercise.\n",
    "\n",
    "\n",
    "\n",
    "Also, [this will probably come in handy](http://web.mit.edu/~csvoss/Public/usabo/stats_handout.pdf). Be careful not to just copy and paste things if you're asked a written question. Demonstrate your own thinking. "
   ]
  }
 ],
 "metadata": {
  "colab": {
   "collapsed_sections": [],
   "name": "Descriptive Statistics I -WORKSHOP NOTES.ipynb",
   "provenance": [
    {
     "file_id": "1rNluzGJLex2Y0o314JOsLw68pgOJVfaY",
     "timestamp": 1574202411959
    },
    {
     "file_id": "1CT5z_jWYMtQENiTt5ZKEDS9MKi76sf7t",
     "timestamp": 1568922223364
    },
    {
     "file_id": "1n9cFh8SlIXLK7SK_soqrYwQgN6cOUoWq",
     "timestamp": 1562525784670
    },
    {
     "file_id": "14--7Sqk2BasgM9A3JfgEUHDDShkJUeNI",
     "timestamp": 1561720082531
    },
    {
     "file_id": "18Vp28B-7YMjcdeszjEtJQUlWEKIQxdjq",
     "timestamp": 1560410473585
    },
    {
     "file_id": "1l_W74rzq1-4KTxnN3LUWUmbIjWBrEvRK",
     "timestamp": 1560402405234
    },
    {
     "file_id": "1Gj8xFEghBwX8exDkdBWvNSzOUTYlNxI9",
     "timestamp": 1560164255413
    },
    {
     "file_id": "1TeHiJ5s48kWFy5BosIWhjK2MQyMkPHNo",
     "timestamp": 1559546187577
    },
    {
     "file_id": "1f_9CXFJzBvrAePaDr_WYQGHEBS5th53b",
     "timestamp": 1559541190636
    }
   ]
  },
  "kernelspec": {
   "display_name": "Python 3 (ipykernel)",
   "language": "python",
   "name": "python3"
  },
  "language_info": {
   "codemirror_mode": {
    "name": "ipython",
    "version": 3
   },
   "file_extension": ".py",
   "mimetype": "text/x-python",
   "name": "python",
   "nbconvert_exporter": "python",
   "pygments_lexer": "ipython3",
   "version": "3.9.13"
  }
 },
 "nbformat": 4,
 "nbformat_minor": 1
}
