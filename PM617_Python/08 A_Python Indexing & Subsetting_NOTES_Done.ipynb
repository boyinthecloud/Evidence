{
 "cells": [
  {
   "cell_type": "markdown",
   "metadata": {
    "colab_type": "text",
    "id": "ZvNsvUNNlZbi"
   },
   "source": [
    "---\n",
    "# Crash Course Python for Data Science - Intro to Pandas \n",
    "---\n",
    "# 02 - Indexing & Subsetting DataFrames\n",
    "---\n",
    "\n"
   ]
  },
  {
   "cell_type": "markdown",
   "metadata": {
    "colab_type": "text",
    "id": "f7sGhOifhpFD"
   },
   "source": [
    "### Learn how to retrieve certain values from your DataFrame\n",
    "DataFrames represent your data in a convenient way. Exploratory data analysis (EDA) involves selecting different \"pieces\" of your data to analyze apart from the rest. To do this you need to learn how to access specific portions of a data frame via indexing, slicing, and filtering your data. "
   ]
  },
  {
   "cell_type": "markdown",
   "metadata": {
    "colab_type": "text",
    "id": "veCoTayWYvhi"
   },
   "source": [
    "### Begin by importing your tools"
   ]
  },
  {
   "cell_type": "code",
   "execution_count": 6,
   "metadata": {
    "colab": {},
    "colab_type": "code",
    "id": "lwG232gHDwLT"
   },
   "outputs": [
    {
     "name": "stdout",
     "output_type": "stream",
     "text": [
      "Pandas imported!\n"
     ]
    }
   ],
   "source": [
    "# Let's begin by importing pandas:\n",
    "import pandas as pd\n",
    "print('Pandas imported!')"
   ]
  },
  {
   "cell_type": "markdown",
   "metadata": {
    "colab_type": "text",
    "id": "oRH-6zIAX6D4"
   },
   "source": [
    "## Indexing\n",
    "### A refresher: You've seen this before!"
   ]
  },
  {
   "cell_type": "code",
   "execution_count": 7,
   "metadata": {
    "colab": {},
    "colab_type": "code",
    "id": "d358xA1dnKQD"
   },
   "outputs": [],
   "source": [
    "# Certain Python objects are 'subscriptable'. That's just a \n",
    "# fancy way of saying you can index them.\n",
    "\n",
    "x = \"A string.\"\n",
    "y = [[\"Another\", \"string\"],\n",
    "     [\"because\", \"why not?\"]]\n",
    "z = 233445"
   ]
  },
  {
   "cell_type": "code",
   "execution_count": 8,
   "metadata": {
    "colab": {},
    "colab_type": "code",
    "id": "M9UZ4VBZCvjk"
   },
   "outputs": [
    {
     "ename": "TypeError",
     "evalue": "'int' object is not subscriptable",
     "output_type": "error",
     "traceback": [
      "\u001b[1;31m---------------------------------------------------------------------------\u001b[0m",
      "\u001b[1;31mTypeError\u001b[0m                                 Traceback (most recent call last)",
      "\u001b[1;32m~\\AppData\\Local\\Temp\\ipykernel_22136\\319104234.py\u001b[0m in \u001b[0;36m<module>\u001b[1;34m\u001b[0m\n\u001b[0;32m      1\u001b[0m \u001b[1;31m# Are integers subscriptable?\u001b[0m\u001b[1;33m\u001b[0m\u001b[1;33m\u001b[0m\u001b[0m\n\u001b[1;32m----> 2\u001b[1;33m \u001b[0mz\u001b[0m\u001b[1;33m[\u001b[0m\u001b[1;36m3\u001b[0m\u001b[1;33m]\u001b[0m\u001b[1;33m\u001b[0m\u001b[1;33m\u001b[0m\u001b[0m\n\u001b[0m",
      "\u001b[1;31mTypeError\u001b[0m: 'int' object is not subscriptable"
     ]
    }
   ],
   "source": [
    "# Are integers subscriptable?\n",
    "z[3]"
   ]
  },
  {
   "cell_type": "code",
   "execution_count": 9,
   "metadata": {
    "colab": {},
    "colab_type": "code",
    "id": "2smlTi47nMZt"
   },
   "outputs": [
    {
     "data": {
      "text/plain": [
       "'str'"
      ]
     },
     "execution_count": 9,
     "metadata": {},
     "output_type": "execute_result"
    }
   ],
   "source": [
    "# We know strings are. Which makes some intuitive sense because they're comprised of \n",
    "# characters. Rememeber how to retrieve the element in 5th position from the end?\n",
    "x[-5]\n",
    "\n",
    "x[2:5]"
   ]
  },
  {
   "cell_type": "code",
   "execution_count": 10,
   "metadata": {
    "colab": {},
    "colab_type": "code",
    "id": "OmpB_nLPBG9j"
   },
   "outputs": [
    {
     "data": {
      "text/plain": [
       "'Another'"
      ]
     },
     "execution_count": 10,
     "metadata": {},
     "output_type": "execute_result"
    }
   ],
   "source": [
    "# List of lists (or nested lists)\n",
    "# First row, first column (remember Python is zero index!)\n",
    "y[0][0]"
   ]
  },
  {
   "cell_type": "code",
   "execution_count": 11,
   "metadata": {
    "colab": {},
    "colab_type": "code",
    "id": "qe3d6fGaBbxI"
   },
   "outputs": [
    {
     "data": {
      "text/plain": [
       "'string'"
      ]
     },
     "execution_count": 11,
     "metadata": {},
     "output_type": "execute_result"
    }
   ],
   "source": [
    "# First row, second column:\n",
    "y[0][1]"
   ]
  },
  {
   "cell_type": "code",
   "execution_count": 12,
   "metadata": {
    "colab": {},
    "colab_type": "code",
    "id": "XgEjiEZrBeiL"
   },
   "outputs": [
    {
     "data": {
      "text/plain": [
       "'because'"
      ]
     },
     "execution_count": 12,
     "metadata": {},
     "output_type": "execute_result"
    }
   ],
   "source": [
    "# Second row, first column:\n",
    "y[1][0]"
   ]
  },
  {
   "cell_type": "code",
   "execution_count": 13,
   "metadata": {
    "colab": {},
    "colab_type": "code",
    "id": "2oupR5xhBkOj"
   },
   "outputs": [
    {
     "data": {
      "text/plain": [
       "'why not?'"
      ]
     },
     "execution_count": 13,
     "metadata": {},
     "output_type": "execute_result"
    }
   ],
   "source": [
    "# Second row, second column:\n",
    "y[1][1]"
   ]
  },
  {
   "cell_type": "markdown",
   "metadata": {
    "colab_type": "text",
    "id": "KxKXLB2FDUgc"
   },
   "source": [
    "### In pandas:"
   ]
  },
  {
   "cell_type": "code",
   "execution_count": 14,
   "metadata": {
    "colab": {},
    "colab_type": "code",
    "id": "-3GVp6FMDXW9"
   },
   "outputs": [
    {
     "data": {
      "text/html": [
       "<div>\n",
       "<style scoped>\n",
       "    .dataframe tbody tr th:only-of-type {\n",
       "        vertical-align: middle;\n",
       "    }\n",
       "\n",
       "    .dataframe tbody tr th {\n",
       "        vertical-align: top;\n",
       "    }\n",
       "\n",
       "    .dataframe thead th {\n",
       "        text-align: right;\n",
       "    }\n",
       "</style>\n",
       "<table border=\"1\" class=\"dataframe\">\n",
       "  <thead>\n",
       "    <tr style=\"text-align: right;\">\n",
       "      <th></th>\n",
       "      <th>Month</th>\n",
       "      <th>Shirts</th>\n",
       "      <th>Shoes</th>\n",
       "      <th>Hats</th>\n",
       "      <th>Scarfs</th>\n",
       "    </tr>\n",
       "  </thead>\n",
       "  <tbody>\n",
       "    <tr>\n",
       "      <th>0</th>\n",
       "      <td>Jan</td>\n",
       "      <td>270.23</td>\n",
       "      <td>530.06</td>\n",
       "      <td>103.33</td>\n",
       "      <td>455.32</td>\n",
       "    </tr>\n",
       "    <tr>\n",
       "      <th>1</th>\n",
       "      <td>Feb</td>\n",
       "      <td>312.86</td>\n",
       "      <td>512.96</td>\n",
       "      <td>114.64</td>\n",
       "      <td>401.65</td>\n",
       "    </tr>\n",
       "    <tr>\n",
       "      <th>2</th>\n",
       "      <td>Mar</td>\n",
       "      <td>361.22</td>\n",
       "      <td>561.30</td>\n",
       "      <td>160.42</td>\n",
       "      <td>381.02</td>\n",
       "    </tr>\n",
       "    <tr>\n",
       "      <th>3</th>\n",
       "      <td>Apr</td>\n",
       "      <td>329.20</td>\n",
       "      <td>525.32</td>\n",
       "      <td>121.21</td>\n",
       "      <td>229.99</td>\n",
       "    </tr>\n",
       "    <tr>\n",
       "      <th>4</th>\n",
       "      <td>Jun</td>\n",
       "      <td>300.45</td>\n",
       "      <td>598.50</td>\n",
       "      <td>109.51</td>\n",
       "      <td>100.75</td>\n",
       "    </tr>\n",
       "    <tr>\n",
       "      <th>5</th>\n",
       "      <td>Jul</td>\n",
       "      <td>336.14</td>\n",
       "      <td>494.41</td>\n",
       "      <td>106.33</td>\n",
       "      <td>30.66</td>\n",
       "    </tr>\n",
       "  </tbody>\n",
       "</table>\n",
       "</div>"
      ],
      "text/plain": [
       "  Month  Shirts   Shoes    Hats  Scarfs\n",
       "0   Jan  270.23  530.06  103.33  455.32\n",
       "1   Feb  312.86  512.96  114.64  401.65\n",
       "2   Mar  361.22  561.30  160.42  381.02\n",
       "3   Apr  329.20  525.32  121.21  229.99\n",
       "4   Jun  300.45  598.50  109.51  100.75\n",
       "5   Jul  336.14  494.41  106.33   30.66"
      ]
     },
     "execution_count": 14,
     "metadata": {},
     "output_type": "execute_result"
    }
   ],
   "source": [
    "# Run this cell to create the DataFrame for semi-annual sales below:\n",
    "\n",
    "sales = pd.DataFrame(\n",
    "    {\"Month\" : [\"Jan\", \"Feb\", \"Mar\", \"Apr\", \"Jun\", \"Jul\"],\n",
    "     \"Shirts\" : [270.23, 312.86, 361.22, 329.20, 300.45, 336.14],\n",
    "     \"Shoes\" : [530.06, 512.96, 561.30, 525.32, 598.50, 494.41],\n",
    "     \"Hats\" : [103.33, 114.64, 160.42, 121.21, 109.51, 106.33],\n",
    "     \"Scarfs\": [455.32, 401.65, 381.02, 229.99, 100.75, 30.66]},\n",
    "    index = [0,1,2,3,4,5]\n",
    ")\n",
    "\n",
    "sales"
   ]
  },
  {
   "cell_type": "markdown",
   "metadata": {
    "colab_type": "text",
    "id": "tL2hfjbAGF7o"
   },
   "source": [
    "***How might we retrieve the value for scarf sales in January?***"
   ]
  },
  {
   "cell_type": "code",
   "execution_count": 15,
   "metadata": {
    "colab": {},
    "colab_type": "code",
    "id": "eorjhEZ4FZaQ"
   },
   "outputs": [
    {
     "data": {
      "text/plain": [
       "455.32"
      ]
     },
     "execution_count": 15,
     "metadata": {},
     "output_type": "execute_result"
    }
   ],
   "source": [
    "# Use the brackets [][]\n",
    "# Notice that we pass the column first here (as opposed to string or list\n",
    "# indexing where we pass the row first).\n",
    "# Also, notice that we can only use values in the index in the second bracket!\n",
    "\n",
    "sales['Scarfs'][0]"
   ]
  },
  {
   "cell_type": "markdown",
   "metadata": {
    "colab_type": "text",
    "id": "8wtqajlpGuS5"
   },
   "source": [
    "***What if we wanted the shoe sales data for all six months?***"
   ]
  },
  {
   "cell_type": "code",
   "execution_count": 17,
   "metadata": {
    "colab": {},
    "colab_type": "code",
    "id": "xijOQ9TpG5A-"
   },
   "outputs": [
    {
     "data": {
      "text/plain": [
       "0    530.06\n",
       "1    512.96\n",
       "2    561.30\n",
       "3    525.32\n",
       "4    598.50\n",
       "5    494.41\n",
       "Name: Shoes, dtype: float64"
      ]
     },
     "execution_count": 17,
     "metadata": {},
     "output_type": "execute_result"
    }
   ],
   "source": [
    "sales['Shoes']\n",
    "\n",
    "# By not specifying a row index like we did above, \n",
    "# pandas returns all the rows by default. In this case,\n",
    "# there are only six rows (one per month)."
   ]
  },
  {
   "cell_type": "code",
   "execution_count": 18,
   "metadata": {
    "colab": {},
    "colab_type": "code",
    "id": "j53-DolMHokJ"
   },
   "outputs": [
    {
     "data": {
      "text/plain": [
       "0    530.06\n",
       "1    512.96\n",
       "2    561.30\n",
       "3    525.32\n",
       "4    598.50\n",
       "5    494.41\n",
       "Name: Shoes, dtype: float64"
      ]
     },
     "execution_count": 18,
     "metadata": {},
     "output_type": "execute_result"
    }
   ],
   "source": [
    "# Besides bracket notation, you can also call a specific column\n",
    "# like this:\n",
    "\n",
    "sales.Shoes"
   ]
  },
  {
   "cell_type": "code",
   "execution_count": 19,
   "metadata": {
    "colab": {},
    "colab_type": "code",
    "id": "pC7L0yS7Ijaj"
   },
   "outputs": [
    {
     "data": {
      "text/plain": [
       "0    530.06\n",
       "1    512.96\n",
       "2    561.30\n",
       "Name: Shoes, dtype: float64"
      ]
     },
     "execution_count": 19,
     "metadata": {},
     "output_type": "execute_result"
    }
   ],
   "source": [
    "# Slicing also works here. If I want the first 3 rows of the column 'Shoes'...\n",
    "\n",
    "sales.Shoes[0:3]\n",
    "\n",
    "# Again, notice the small (but important) difference. When slicing a list, the \n",
    "# second number is exclusive. In pandas, it's inclusive. \n",
    "\n",
    "# equivalent to:\n",
    "# sales['Shoes'][0:3]"
   ]
  },
  {
   "cell_type": "markdown",
   "metadata": {
    "colab_type": "text",
    "id": "I3yHjJB8IQKZ"
   },
   "source": [
    "### Accessors\n",
    "As the name suggests, accessors are pandas methods to help you access specific values inside your DataFrame. There are two main \"accessor\" methods:\n",
    "\n",
    "* .loc()  -  based on row/column position\n",
    "* .iloc()  -  based on indexes label\n",
    "\n",
    "***Both*** follow the same convention:  \n",
    "\n",
    "```\n",
    "df.loc['row label']['column label']\n",
    "df.iloc['row index']['column index']\n",
    "```"
   ]
  },
  {
   "cell_type": "code",
   "execution_count": 20,
   "metadata": {
    "colab": {},
    "colab_type": "code",
    "id": "jDXDTrx4KFF8"
   },
   "outputs": [
    {
     "data": {
      "text/html": [
       "<div>\n",
       "<style scoped>\n",
       "    .dataframe tbody tr th:only-of-type {\n",
       "        vertical-align: middle;\n",
       "    }\n",
       "\n",
       "    .dataframe tbody tr th {\n",
       "        vertical-align: top;\n",
       "    }\n",
       "\n",
       "    .dataframe thead th {\n",
       "        text-align: right;\n",
       "    }\n",
       "</style>\n",
       "<table border=\"1\" class=\"dataframe\">\n",
       "  <thead>\n",
       "    <tr style=\"text-align: right;\">\n",
       "      <th></th>\n",
       "      <th>Month</th>\n",
       "      <th>Shirts</th>\n",
       "      <th>Shoes</th>\n",
       "      <th>Hats</th>\n",
       "      <th>Scarfs</th>\n",
       "    </tr>\n",
       "  </thead>\n",
       "  <tbody>\n",
       "    <tr>\n",
       "      <th>0</th>\n",
       "      <td>Jan</td>\n",
       "      <td>270.23</td>\n",
       "      <td>530.06</td>\n",
       "      <td>103.33</td>\n",
       "      <td>455.32</td>\n",
       "    </tr>\n",
       "    <tr>\n",
       "      <th>1</th>\n",
       "      <td>Feb</td>\n",
       "      <td>312.86</td>\n",
       "      <td>512.96</td>\n",
       "      <td>114.64</td>\n",
       "      <td>401.65</td>\n",
       "    </tr>\n",
       "    <tr>\n",
       "      <th>2</th>\n",
       "      <td>Mar</td>\n",
       "      <td>361.22</td>\n",
       "      <td>561.30</td>\n",
       "      <td>160.42</td>\n",
       "      <td>381.02</td>\n",
       "    </tr>\n",
       "    <tr>\n",
       "      <th>3</th>\n",
       "      <td>Apr</td>\n",
       "      <td>329.20</td>\n",
       "      <td>525.32</td>\n",
       "      <td>121.21</td>\n",
       "      <td>229.99</td>\n",
       "    </tr>\n",
       "    <tr>\n",
       "      <th>4</th>\n",
       "      <td>Jun</td>\n",
       "      <td>300.45</td>\n",
       "      <td>598.50</td>\n",
       "      <td>109.51</td>\n",
       "      <td>100.75</td>\n",
       "    </tr>\n",
       "    <tr>\n",
       "      <th>5</th>\n",
       "      <td>Jul</td>\n",
       "      <td>336.14</td>\n",
       "      <td>494.41</td>\n",
       "      <td>106.33</td>\n",
       "      <td>30.66</td>\n",
       "    </tr>\n",
       "  </tbody>\n",
       "</table>\n",
       "</div>"
      ],
      "text/plain": [
       "  Month  Shirts   Shoes    Hats  Scarfs\n",
       "0   Jan  270.23  530.06  103.33  455.32\n",
       "1   Feb  312.86  512.96  114.64  401.65\n",
       "2   Mar  361.22  561.30  160.42  381.02\n",
       "3   Apr  329.20  525.32  121.21  229.99\n",
       "4   Jun  300.45  598.50  109.51  100.75\n",
       "5   Jul  336.14  494.41  106.33   30.66"
      ]
     },
     "execution_count": 20,
     "metadata": {},
     "output_type": "execute_result"
    }
   ],
   "source": [
    "sales"
   ]
  },
  {
   "cell_type": "code",
   "execution_count": 21,
   "metadata": {
    "colab": {},
    "colab_type": "code",
    "id": "e92SAfiOKK5J"
   },
   "outputs": [
    {
     "data": {
      "text/plain": [
       "329.2"
      ]
     },
     "execution_count": 21,
     "metadata": {},
     "output_type": "execute_result"
    }
   ],
   "source": [
    "# Let's use .iloc to find the sales data for shirts in April:\n",
    "\n",
    "sales.iloc[3][1]\n",
    "\n",
    "# Notice that the accesor methods (like lists!) expect rows, then columns.\n",
    "# 0-indexing still applies!"
   ]
  },
  {
   "cell_type": "markdown",
   "metadata": {
    "colab_type": "text",
    "id": "YVuwv9oVKzlo"
   },
   "source": [
    "## Subsetting\n",
    "Let's say we need to create a DataFrame to hold just the sales data for the first quarter of the year rather than the first half of the year. \n"
   ]
  },
  {
   "cell_type": "code",
   "execution_count": 22,
   "metadata": {
    "colab": {},
    "colab_type": "code",
    "id": "3wZWJK5WK-4q"
   },
   "outputs": [],
   "source": [
    "sales_Q1 = sales.iloc[0:3,:]\n",
    "\n",
    "# Ok, working from right to left, here's what's going on:\n",
    "\n",
    "# 1) We're selecting all the columns with an open slice [:]\n",
    "# 2) We're selecting the first 3 rows with 0:3 (it's inclusive)\n",
    "# 3) We're using the index-based .iloc method to do this\n",
    "# 4) We're subsetting data from the sales DataFrame\n",
    "# 5) And assigning it to a new variable, sales_Q1"
   ]
  },
  {
   "cell_type": "code",
   "execution_count": 23,
   "metadata": {
    "colab": {},
    "colab_type": "code",
    "id": "M2oIH_0HL02p"
   },
   "outputs": [
    {
     "data": {
      "text/html": [
       "<div>\n",
       "<style scoped>\n",
       "    .dataframe tbody tr th:only-of-type {\n",
       "        vertical-align: middle;\n",
       "    }\n",
       "\n",
       "    .dataframe tbody tr th {\n",
       "        vertical-align: top;\n",
       "    }\n",
       "\n",
       "    .dataframe thead th {\n",
       "        text-align: right;\n",
       "    }\n",
       "</style>\n",
       "<table border=\"1\" class=\"dataframe\">\n",
       "  <thead>\n",
       "    <tr style=\"text-align: right;\">\n",
       "      <th></th>\n",
       "      <th>Month</th>\n",
       "      <th>Shirts</th>\n",
       "      <th>Shoes</th>\n",
       "      <th>Hats</th>\n",
       "      <th>Scarfs</th>\n",
       "    </tr>\n",
       "  </thead>\n",
       "  <tbody>\n",
       "    <tr>\n",
       "      <th>0</th>\n",
       "      <td>Jan</td>\n",
       "      <td>270.23</td>\n",
       "      <td>530.06</td>\n",
       "      <td>103.33</td>\n",
       "      <td>455.32</td>\n",
       "    </tr>\n",
       "    <tr>\n",
       "      <th>1</th>\n",
       "      <td>Feb</td>\n",
       "      <td>312.86</td>\n",
       "      <td>512.96</td>\n",
       "      <td>114.64</td>\n",
       "      <td>401.65</td>\n",
       "    </tr>\n",
       "    <tr>\n",
       "      <th>2</th>\n",
       "      <td>Mar</td>\n",
       "      <td>361.22</td>\n",
       "      <td>561.30</td>\n",
       "      <td>160.42</td>\n",
       "      <td>381.02</td>\n",
       "    </tr>\n",
       "  </tbody>\n",
       "</table>\n",
       "</div>"
      ],
      "text/plain": [
       "  Month  Shirts   Shoes    Hats  Scarfs\n",
       "0   Jan  270.23  530.06  103.33  455.32\n",
       "1   Feb  312.86  512.96  114.64  401.65\n",
       "2   Mar  361.22  561.30  160.42  381.02"
      ]
     },
     "execution_count": 23,
     "metadata": {},
     "output_type": "execute_result"
    }
   ],
   "source": [
    "sales_Q1"
   ]
  },
  {
   "cell_type": "markdown",
   "metadata": {
    "colab_type": "text",
    "id": "KotWO74eNjAK"
   },
   "source": [
    "Notice that the following would also result in the same DataFrame:\n",
    "\n",
    "```\n",
    "sales_Q1 = sales.loc[[0,1,2],['Month', 'Shirts', 'Shoes', 'Hats', 'Scarfs']]\n",
    "\n",
    "sales_Q1 = sales.iloc[[0,1,2],[0,1,2,3,4]]\n",
    "```\n",
    "\n",
    ".loc is being passed the column labels, iloc is being passed the column index positions."
   ]
  },
  {
   "cell_type": "code",
   "execution_count": 24,
   "metadata": {
    "colab": {},
    "colab_type": "code",
    "id": "fVo6gvVHEJKj"
   },
   "outputs": [
    {
     "data": {
      "text/html": [
       "<div>\n",
       "<style scoped>\n",
       "    .dataframe tbody tr th:only-of-type {\n",
       "        vertical-align: middle;\n",
       "    }\n",
       "\n",
       "    .dataframe tbody tr th {\n",
       "        vertical-align: top;\n",
       "    }\n",
       "\n",
       "    .dataframe thead th {\n",
       "        text-align: right;\n",
       "    }\n",
       "</style>\n",
       "<table border=\"1\" class=\"dataframe\">\n",
       "  <thead>\n",
       "    <tr style=\"text-align: right;\">\n",
       "      <th></th>\n",
       "      <th>Month</th>\n",
       "      <th>Shirts</th>\n",
       "      <th>Shoes</th>\n",
       "      <th>Hats</th>\n",
       "      <th>Scarfs</th>\n",
       "    </tr>\n",
       "  </thead>\n",
       "  <tbody>\n",
       "    <tr>\n",
       "      <th>0</th>\n",
       "      <td>Jan</td>\n",
       "      <td>270.23</td>\n",
       "      <td>530.06</td>\n",
       "      <td>103.33</td>\n",
       "      <td>455.32</td>\n",
       "    </tr>\n",
       "    <tr>\n",
       "      <th>1</th>\n",
       "      <td>Feb</td>\n",
       "      <td>312.86</td>\n",
       "      <td>512.96</td>\n",
       "      <td>114.64</td>\n",
       "      <td>401.65</td>\n",
       "    </tr>\n",
       "    <tr>\n",
       "      <th>2</th>\n",
       "      <td>Mar</td>\n",
       "      <td>361.22</td>\n",
       "      <td>561.30</td>\n",
       "      <td>160.42</td>\n",
       "      <td>381.02</td>\n",
       "    </tr>\n",
       "    <tr>\n",
       "      <th>3</th>\n",
       "      <td>Apr</td>\n",
       "      <td>329.20</td>\n",
       "      <td>525.32</td>\n",
       "      <td>121.21</td>\n",
       "      <td>229.99</td>\n",
       "    </tr>\n",
       "  </tbody>\n",
       "</table>\n",
       "</div>"
      ],
      "text/plain": [
       "  Month  Shirts   Shoes    Hats  Scarfs\n",
       "0   Jan  270.23  530.06  103.33  455.32\n",
       "1   Feb  312.86  512.96  114.64  401.65\n",
       "2   Mar  361.22  561.30  160.42  381.02\n",
       "3   Apr  329.20  525.32  121.21  229.99"
      ]
     },
     "execution_count": 24,
     "metadata": {},
     "output_type": "execute_result"
    }
   ],
   "source": [
    "sales.loc[0:3,:]"
   ]
  },
  {
   "cell_type": "code",
   "execution_count": 25,
   "metadata": {
    "colab": {},
    "colab_type": "code",
    "id": "3TVhmX0JENdM"
   },
   "outputs": [
    {
     "data": {
      "text/html": [
       "<div>\n",
       "<style scoped>\n",
       "    .dataframe tbody tr th:only-of-type {\n",
       "        vertical-align: middle;\n",
       "    }\n",
       "\n",
       "    .dataframe tbody tr th {\n",
       "        vertical-align: top;\n",
       "    }\n",
       "\n",
       "    .dataframe thead th {\n",
       "        text-align: right;\n",
       "    }\n",
       "</style>\n",
       "<table border=\"1\" class=\"dataframe\">\n",
       "  <thead>\n",
       "    <tr style=\"text-align: right;\">\n",
       "      <th></th>\n",
       "      <th>Month</th>\n",
       "      <th>Shirts</th>\n",
       "      <th>Shoes</th>\n",
       "      <th>Hats</th>\n",
       "      <th>Scarfs</th>\n",
       "    </tr>\n",
       "  </thead>\n",
       "  <tbody>\n",
       "    <tr>\n",
       "      <th>0</th>\n",
       "      <td>Jan</td>\n",
       "      <td>270.23</td>\n",
       "      <td>530.06</td>\n",
       "      <td>103.33</td>\n",
       "      <td>455.32</td>\n",
       "    </tr>\n",
       "    <tr>\n",
       "      <th>1</th>\n",
       "      <td>Feb</td>\n",
       "      <td>312.86</td>\n",
       "      <td>512.96</td>\n",
       "      <td>114.64</td>\n",
       "      <td>401.65</td>\n",
       "    </tr>\n",
       "    <tr>\n",
       "      <th>2</th>\n",
       "      <td>Mar</td>\n",
       "      <td>361.22</td>\n",
       "      <td>561.30</td>\n",
       "      <td>160.42</td>\n",
       "      <td>381.02</td>\n",
       "    </tr>\n",
       "  </tbody>\n",
       "</table>\n",
       "</div>"
      ],
      "text/plain": [
       "  Month  Shirts   Shoes    Hats  Scarfs\n",
       "0   Jan  270.23  530.06  103.33  455.32\n",
       "1   Feb  312.86  512.96  114.64  401.65\n",
       "2   Mar  361.22  561.30  160.42  381.02"
      ]
     },
     "execution_count": 25,
     "metadata": {},
     "output_type": "execute_result"
    }
   ],
   "source": [
    "sales.iloc[0:3,:]"
   ]
  },
  {
   "cell_type": "markdown",
   "metadata": {
    "colab_type": "text",
    "id": "iTZZq1aVOW9x"
   },
   "source": [
    "## Filtering\n",
    "By leveraging Python operators, we can filter our DataFrames with conditions of our own choosing. For example, let's see all the months where scarfs sold *at least* $400:\n"
   ]
  },
  {
   "cell_type": "code",
   "execution_count": 26,
   "metadata": {
    "colab": {},
    "colab_type": "code",
    "id": "Az6RwNylOrxT"
   },
   "outputs": [
    {
     "data": {
      "text/html": [
       "<div>\n",
       "<style scoped>\n",
       "    .dataframe tbody tr th:only-of-type {\n",
       "        vertical-align: middle;\n",
       "    }\n",
       "\n",
       "    .dataframe tbody tr th {\n",
       "        vertical-align: top;\n",
       "    }\n",
       "\n",
       "    .dataframe thead th {\n",
       "        text-align: right;\n",
       "    }\n",
       "</style>\n",
       "<table border=\"1\" class=\"dataframe\">\n",
       "  <thead>\n",
       "    <tr style=\"text-align: right;\">\n",
       "      <th></th>\n",
       "      <th>Month</th>\n",
       "      <th>Shirts</th>\n",
       "      <th>Shoes</th>\n",
       "      <th>Hats</th>\n",
       "      <th>Scarfs</th>\n",
       "    </tr>\n",
       "  </thead>\n",
       "  <tbody>\n",
       "    <tr>\n",
       "      <th>0</th>\n",
       "      <td>Jan</td>\n",
       "      <td>270.23</td>\n",
       "      <td>530.06</td>\n",
       "      <td>103.33</td>\n",
       "      <td>455.32</td>\n",
       "    </tr>\n",
       "    <tr>\n",
       "      <th>1</th>\n",
       "      <td>Feb</td>\n",
       "      <td>312.86</td>\n",
       "      <td>512.96</td>\n",
       "      <td>114.64</td>\n",
       "      <td>401.65</td>\n",
       "    </tr>\n",
       "    <tr>\n",
       "      <th>2</th>\n",
       "      <td>Mar</td>\n",
       "      <td>361.22</td>\n",
       "      <td>561.30</td>\n",
       "      <td>160.42</td>\n",
       "      <td>381.02</td>\n",
       "    </tr>\n",
       "    <tr>\n",
       "      <th>3</th>\n",
       "      <td>Apr</td>\n",
       "      <td>329.20</td>\n",
       "      <td>525.32</td>\n",
       "      <td>121.21</td>\n",
       "      <td>229.99</td>\n",
       "    </tr>\n",
       "    <tr>\n",
       "      <th>4</th>\n",
       "      <td>Jun</td>\n",
       "      <td>300.45</td>\n",
       "      <td>598.50</td>\n",
       "      <td>109.51</td>\n",
       "      <td>100.75</td>\n",
       "    </tr>\n",
       "    <tr>\n",
       "      <th>5</th>\n",
       "      <td>Jul</td>\n",
       "      <td>336.14</td>\n",
       "      <td>494.41</td>\n",
       "      <td>106.33</td>\n",
       "      <td>30.66</td>\n",
       "    </tr>\n",
       "  </tbody>\n",
       "</table>\n",
       "</div>"
      ],
      "text/plain": [
       "  Month  Shirts   Shoes    Hats  Scarfs\n",
       "0   Jan  270.23  530.06  103.33  455.32\n",
       "1   Feb  312.86  512.96  114.64  401.65\n",
       "2   Mar  361.22  561.30  160.42  381.02\n",
       "3   Apr  329.20  525.32  121.21  229.99\n",
       "4   Jun  300.45  598.50  109.51  100.75\n",
       "5   Jul  336.14  494.41  106.33   30.66"
      ]
     },
     "execution_count": 26,
     "metadata": {},
     "output_type": "execute_result"
    }
   ],
   "source": [
    "sales"
   ]
  },
  {
   "cell_type": "code",
   "execution_count": 22,
   "metadata": {
    "colab": {},
    "colab_type": "code",
    "id": "dY55u2Wv1sL_"
   },
   "outputs": [
    {
     "data": {
      "text/plain": [
       "0     True\n",
       "1     True\n",
       "2    False\n",
       "3    False\n",
       "4    False\n",
       "5    False\n",
       "Name: Scarfs, dtype: bool"
      ]
     },
     "execution_count": 22,
     "metadata": {},
     "output_type": "execute_result"
    }
   ],
   "source": [
    "sales.Scarfs >= 400"
   ]
  },
  {
   "cell_type": "code",
   "execution_count": 23,
   "metadata": {
    "colab": {},
    "colab_type": "code",
    "id": "WE_yUY3uOuJ8"
   },
   "outputs": [
    {
     "data": {
      "text/plain": [
       "0    False\n",
       "1    False\n",
       "2     True\n",
       "3     True\n",
       "4    False\n",
       "5    False\n",
       "Name: Hats, dtype: bool"
      ]
     },
     "execution_count": 23,
     "metadata": {},
     "output_type": "execute_result"
    }
   ],
   "source": [
    "sales['Hats'] >= 120"
   ]
  },
  {
   "cell_type": "code",
   "execution_count": 24,
   "metadata": {
    "colab": {},
    "colab_type": "code",
    "id": "jeKp5YFpEyTm"
   },
   "outputs": [
    {
     "data": {
      "text/html": [
       "<div>\n",
       "<style scoped>\n",
       "    .dataframe tbody tr th:only-of-type {\n",
       "        vertical-align: middle;\n",
       "    }\n",
       "\n",
       "    .dataframe tbody tr th {\n",
       "        vertical-align: top;\n",
       "    }\n",
       "\n",
       "    .dataframe thead th {\n",
       "        text-align: right;\n",
       "    }\n",
       "</style>\n",
       "<table border=\"1\" class=\"dataframe\">\n",
       "  <thead>\n",
       "    <tr style=\"text-align: right;\">\n",
       "      <th></th>\n",
       "      <th>Month</th>\n",
       "      <th>Shirts</th>\n",
       "      <th>Shoes</th>\n",
       "      <th>Hats</th>\n",
       "      <th>Scarfs</th>\n",
       "    </tr>\n",
       "  </thead>\n",
       "  <tbody>\n",
       "    <tr>\n",
       "      <th>2</th>\n",
       "      <td>Mar</td>\n",
       "      <td>361.22</td>\n",
       "      <td>561.30</td>\n",
       "      <td>160.42</td>\n",
       "      <td>381.02</td>\n",
       "    </tr>\n",
       "    <tr>\n",
       "      <th>3</th>\n",
       "      <td>Apr</td>\n",
       "      <td>329.20</td>\n",
       "      <td>525.32</td>\n",
       "      <td>121.21</td>\n",
       "      <td>229.99</td>\n",
       "    </tr>\n",
       "  </tbody>\n",
       "</table>\n",
       "</div>"
      ],
      "text/plain": [
       "  Month  Shirts   Shoes    Hats  Scarfs\n",
       "2   Mar  361.22  561.30  160.42  381.02\n",
       "3   Apr  329.20  525.32  121.21  229.99"
      ]
     },
     "execution_count": 24,
     "metadata": {},
     "output_type": "execute_result"
    }
   ],
   "source": [
    "condition = sales['Hats'] >= 120\n",
    "\n",
    "sales[condition]"
   ]
  },
  {
   "cell_type": "code",
   "execution_count": 27,
   "metadata": {
    "colab": {},
    "colab_type": "code",
    "id": "OBKtI9CTE3MW"
   },
   "outputs": [
    {
     "data": {
      "text/html": [
       "<div>\n",
       "<style scoped>\n",
       "    .dataframe tbody tr th:only-of-type {\n",
       "        vertical-align: middle;\n",
       "    }\n",
       "\n",
       "    .dataframe tbody tr th {\n",
       "        vertical-align: top;\n",
       "    }\n",
       "\n",
       "    .dataframe thead th {\n",
       "        text-align: right;\n",
       "    }\n",
       "</style>\n",
       "<table border=\"1\" class=\"dataframe\">\n",
       "  <thead>\n",
       "    <tr style=\"text-align: right;\">\n",
       "      <th></th>\n",
       "      <th>Month</th>\n",
       "      <th>Shirts</th>\n",
       "      <th>Shoes</th>\n",
       "      <th>Hats</th>\n",
       "      <th>Scarfs</th>\n",
       "    </tr>\n",
       "  </thead>\n",
       "  <tbody>\n",
       "    <tr>\n",
       "      <th>2</th>\n",
       "      <td>Mar</td>\n",
       "      <td>361.22</td>\n",
       "      <td>561.30</td>\n",
       "      <td>160.42</td>\n",
       "      <td>381.02</td>\n",
       "    </tr>\n",
       "    <tr>\n",
       "      <th>3</th>\n",
       "      <td>Apr</td>\n",
       "      <td>329.20</td>\n",
       "      <td>525.32</td>\n",
       "      <td>121.21</td>\n",
       "      <td>229.99</td>\n",
       "    </tr>\n",
       "  </tbody>\n",
       "</table>\n",
       "</div>"
      ],
      "text/plain": [
       "  Month  Shirts   Shoes    Hats  Scarfs\n",
       "2   Mar  361.22  561.30  160.42  381.02\n",
       "3   Apr  329.20  525.32  121.21  229.99"
      ]
     },
     "execution_count": 27,
     "metadata": {},
     "output_type": "execute_result"
    }
   ],
   "source": [
    "filtered = sales[sales['Hats'] >= 120]\n",
    "filtered"
   ]
  },
  {
   "cell_type": "code",
   "execution_count": 26,
   "metadata": {
    "colab": {},
    "colab_type": "code",
    "id": "VkzL4t7-FP97"
   },
   "outputs": [
    {
     "data": {
      "text/plain": [
       "329.2"
      ]
     },
     "execution_count": 26,
     "metadata": {},
     "output_type": "execute_result"
    }
   ],
   "source": [
    "filtered.iloc[1][1]"
   ]
  },
  {
   "cell_type": "code",
   "execution_count": 27,
   "metadata": {
    "colab": {},
    "colab_type": "code",
    "id": "L0_qyKObFM7_"
   },
   "outputs": [
    {
     "data": {
      "text/plain": [
       "329.2"
      ]
     },
     "execution_count": 27,
     "metadata": {},
     "output_type": "execute_result"
    }
   ],
   "source": [
    "filtered.loc[3][1]"
   ]
  },
  {
   "cell_type": "code",
   "execution_count": 28,
   "metadata": {
    "colab": {},
    "colab_type": "code",
    "id": "lPM_FA69F8ib"
   },
   "outputs": [
    {
     "data": {
      "text/plain": [
       "329.2"
      ]
     },
     "execution_count": 28,
     "metadata": {},
     "output_type": "execute_result"
    }
   ],
   "source": [
    "filtered.loc[3][1]"
   ]
  },
  {
   "cell_type": "code",
   "execution_count": 29,
   "metadata": {
    "colab": {},
    "colab_type": "code",
    "id": "x7OVINwiGfvx"
   },
   "outputs": [
    {
     "data": {
      "text/html": [
       "<div>\n",
       "<style scoped>\n",
       "    .dataframe tbody tr th:only-of-type {\n",
       "        vertical-align: middle;\n",
       "    }\n",
       "\n",
       "    .dataframe tbody tr th {\n",
       "        vertical-align: top;\n",
       "    }\n",
       "\n",
       "    .dataframe thead th {\n",
       "        text-align: right;\n",
       "    }\n",
       "</style>\n",
       "<table border=\"1\" class=\"dataframe\">\n",
       "  <thead>\n",
       "    <tr style=\"text-align: right;\">\n",
       "      <th></th>\n",
       "      <th>index</th>\n",
       "      <th>Month</th>\n",
       "      <th>Shirts</th>\n",
       "      <th>Shoes</th>\n",
       "      <th>Hats</th>\n",
       "      <th>Scarfs</th>\n",
       "    </tr>\n",
       "  </thead>\n",
       "  <tbody>\n",
       "    <tr>\n",
       "      <th>0</th>\n",
       "      <td>2</td>\n",
       "      <td>Mar</td>\n",
       "      <td>361.22</td>\n",
       "      <td>561.30</td>\n",
       "      <td>160.42</td>\n",
       "      <td>381.02</td>\n",
       "    </tr>\n",
       "    <tr>\n",
       "      <th>1</th>\n",
       "      <td>3</td>\n",
       "      <td>Apr</td>\n",
       "      <td>329.20</td>\n",
       "      <td>525.32</td>\n",
       "      <td>121.21</td>\n",
       "      <td>229.99</td>\n",
       "    </tr>\n",
       "  </tbody>\n",
       "</table>\n",
       "</div>"
      ],
      "text/plain": [
       "   index Month  Shirts   Shoes    Hats  Scarfs\n",
       "0      2   Mar  361.22  561.30  160.42  381.02\n",
       "1      3   Apr  329.20  525.32  121.21  229.99"
      ]
     },
     "execution_count": 29,
     "metadata": {},
     "output_type": "execute_result"
    }
   ],
   "source": [
    "df = filtered.reset_index()\n",
    "\n",
    "df"
   ]
  },
  {
   "cell_type": "code",
   "execution_count": 30,
   "metadata": {
    "colab": {},
    "colab_type": "code",
    "id": "r-4Jo2Zy3bCr"
   },
   "outputs": [
    {
     "data": {
      "text/plain": [
       "525.32"
      ]
     },
     "execution_count": 30,
     "metadata": {},
     "output_type": "execute_result"
    }
   ],
   "source": [
    "df.loc[1][3]"
   ]
  },
  {
   "cell_type": "code",
   "execution_count": 31,
   "metadata": {
    "colab": {},
    "colab_type": "code",
    "id": "1X-15luW3fsW"
   },
   "outputs": [
    {
     "data": {
      "text/plain": [
       "525.32"
      ]
     },
     "execution_count": 31,
     "metadata": {},
     "output_type": "execute_result"
    }
   ],
   "source": [
    "df.iloc[1][3]"
   ]
  },
  {
   "cell_type": "markdown",
   "metadata": {
    "colab_type": "text",
    "id": "qy0PYO5lOuj8"
   },
   "source": [
    "## Changing the Index"
   ]
  },
  {
   "cell_type": "markdown",
   "metadata": {
    "colab_type": "text",
    "id": "nXxEMk3gPBD6"
   },
   "source": [
    "So we can see that this condition was true for the first two months. You can tell by referencing the months to the index (Jan = 0, Feb = 1, etc).  \n",
    "But that's annoying. Why don't we make the ['Month'] column the index instead?"
   ]
  },
  {
   "cell_type": "code",
   "execution_count": 32,
   "metadata": {
    "colab": {},
    "colab_type": "code",
    "id": "6XGgDIKFPUhP"
   },
   "outputs": [],
   "source": [
    "sales.set_index('Month', inplace=True)\n",
    "\n",
    "#Remember that inplace=True is necessary for the change to persist."
   ]
  },
  {
   "cell_type": "code",
   "execution_count": 33,
   "metadata": {
    "colab": {},
    "colab_type": "code",
    "id": "q96zkDKcPkYu"
   },
   "outputs": [
    {
     "data": {
      "text/html": [
       "<div>\n",
       "<style scoped>\n",
       "    .dataframe tbody tr th:only-of-type {\n",
       "        vertical-align: middle;\n",
       "    }\n",
       "\n",
       "    .dataframe tbody tr th {\n",
       "        vertical-align: top;\n",
       "    }\n",
       "\n",
       "    .dataframe thead th {\n",
       "        text-align: right;\n",
       "    }\n",
       "</style>\n",
       "<table border=\"1\" class=\"dataframe\">\n",
       "  <thead>\n",
       "    <tr style=\"text-align: right;\">\n",
       "      <th></th>\n",
       "      <th>Shirts</th>\n",
       "      <th>Shoes</th>\n",
       "      <th>Hats</th>\n",
       "      <th>Scarfs</th>\n",
       "    </tr>\n",
       "    <tr>\n",
       "      <th>Month</th>\n",
       "      <th></th>\n",
       "      <th></th>\n",
       "      <th></th>\n",
       "      <th></th>\n",
       "    </tr>\n",
       "  </thead>\n",
       "  <tbody>\n",
       "    <tr>\n",
       "      <th>Jan</th>\n",
       "      <td>270.23</td>\n",
       "      <td>530.06</td>\n",
       "      <td>103.33</td>\n",
       "      <td>455.32</td>\n",
       "    </tr>\n",
       "    <tr>\n",
       "      <th>Feb</th>\n",
       "      <td>312.86</td>\n",
       "      <td>512.96</td>\n",
       "      <td>114.64</td>\n",
       "      <td>401.65</td>\n",
       "    </tr>\n",
       "    <tr>\n",
       "      <th>Mar</th>\n",
       "      <td>361.22</td>\n",
       "      <td>561.30</td>\n",
       "      <td>160.42</td>\n",
       "      <td>381.02</td>\n",
       "    </tr>\n",
       "    <tr>\n",
       "      <th>Apr</th>\n",
       "      <td>329.20</td>\n",
       "      <td>525.32</td>\n",
       "      <td>121.21</td>\n",
       "      <td>229.99</td>\n",
       "    </tr>\n",
       "    <tr>\n",
       "      <th>Jun</th>\n",
       "      <td>300.45</td>\n",
       "      <td>598.50</td>\n",
       "      <td>109.51</td>\n",
       "      <td>100.75</td>\n",
       "    </tr>\n",
       "    <tr>\n",
       "      <th>Jul</th>\n",
       "      <td>336.14</td>\n",
       "      <td>494.41</td>\n",
       "      <td>106.33</td>\n",
       "      <td>30.66</td>\n",
       "    </tr>\n",
       "  </tbody>\n",
       "</table>\n",
       "</div>"
      ],
      "text/plain": [
       "       Shirts   Shoes    Hats  Scarfs\n",
       "Month                                \n",
       "Jan    270.23  530.06  103.33  455.32\n",
       "Feb    312.86  512.96  114.64  401.65\n",
       "Mar    361.22  561.30  160.42  381.02\n",
       "Apr    329.20  525.32  121.21  229.99\n",
       "Jun    300.45  598.50  109.51  100.75\n",
       "Jul    336.14  494.41  106.33   30.66"
      ]
     },
     "execution_count": 33,
     "metadata": {},
     "output_type": "execute_result"
    }
   ],
   "source": [
    "sales"
   ]
  },
  {
   "cell_type": "code",
   "execution_count": 34,
   "metadata": {
    "colab": {},
    "colab_type": "code",
    "id": "W6qCdn5B4BXt"
   },
   "outputs": [
    {
     "data": {
      "text/plain": [
       "512.96"
      ]
     },
     "execution_count": 34,
     "metadata": {},
     "output_type": "execute_result"
    }
   ],
   "source": [
    "sales.loc['Feb'][1]"
   ]
  },
  {
   "cell_type": "code",
   "execution_count": 35,
   "metadata": {
    "colab": {},
    "colab_type": "code",
    "id": "GsLV9U2q4L7P"
   },
   "outputs": [
    {
     "data": {
      "text/plain": [
       "512.96"
      ]
     },
     "execution_count": 35,
     "metadata": {},
     "output_type": "execute_result"
    }
   ],
   "source": [
    "sales.iloc[1][1]"
   ]
  },
  {
   "cell_type": "code",
   "execution_count": 36,
   "metadata": {
    "colab": {},
    "colab_type": "code",
    "id": "SQTCGt8K4OTk"
   },
   "outputs": [
    {
     "ename": "TypeError",
     "evalue": "Cannot index by location index with a non-integer key",
     "output_type": "error",
     "traceback": [
      "\u001b[1;31m---------------------------------------------------------------------------\u001b[0m",
      "\u001b[1;31mTypeError\u001b[0m                                 Traceback (most recent call last)",
      "\u001b[1;32m~\\AppData\\Local\\Temp\\ipykernel_22136\\3179497254.py\u001b[0m in \u001b[0;36m<module>\u001b[1;34m\u001b[0m\n\u001b[1;32m----> 1\u001b[1;33m \u001b[0msales\u001b[0m\u001b[1;33m.\u001b[0m\u001b[0miloc\u001b[0m\u001b[1;33m[\u001b[0m\u001b[1;34m\"Feb\"\u001b[0m\u001b[1;33m]\u001b[0m\u001b[1;33m[\u001b[0m\u001b[1;36m1\u001b[0m\u001b[1;33m]\u001b[0m\u001b[1;33m\u001b[0m\u001b[1;33m\u001b[0m\u001b[0m\n\u001b[0m",
      "\u001b[1;32mD:\\Anaconda\\lib\\site-packages\\pandas\\core\\indexing.py\u001b[0m in \u001b[0;36m__getitem__\u001b[1;34m(self, key)\u001b[0m\n\u001b[0;32m    965\u001b[0m \u001b[1;33m\u001b[0m\u001b[0m\n\u001b[0;32m    966\u001b[0m             \u001b[0mmaybe_callable\u001b[0m \u001b[1;33m=\u001b[0m \u001b[0mcom\u001b[0m\u001b[1;33m.\u001b[0m\u001b[0mapply_if_callable\u001b[0m\u001b[1;33m(\u001b[0m\u001b[0mkey\u001b[0m\u001b[1;33m,\u001b[0m \u001b[0mself\u001b[0m\u001b[1;33m.\u001b[0m\u001b[0mobj\u001b[0m\u001b[1;33m)\u001b[0m\u001b[1;33m\u001b[0m\u001b[1;33m\u001b[0m\u001b[0m\n\u001b[1;32m--> 967\u001b[1;33m             \u001b[1;32mreturn\u001b[0m \u001b[0mself\u001b[0m\u001b[1;33m.\u001b[0m\u001b[0m_getitem_axis\u001b[0m\u001b[1;33m(\u001b[0m\u001b[0mmaybe_callable\u001b[0m\u001b[1;33m,\u001b[0m \u001b[0maxis\u001b[0m\u001b[1;33m=\u001b[0m\u001b[0maxis\u001b[0m\u001b[1;33m)\u001b[0m\u001b[1;33m\u001b[0m\u001b[1;33m\u001b[0m\u001b[0m\n\u001b[0m\u001b[0;32m    968\u001b[0m \u001b[1;33m\u001b[0m\u001b[0m\n\u001b[0;32m    969\u001b[0m     \u001b[1;32mdef\u001b[0m \u001b[0m_is_scalar_access\u001b[0m\u001b[1;33m(\u001b[0m\u001b[0mself\u001b[0m\u001b[1;33m,\u001b[0m \u001b[0mkey\u001b[0m\u001b[1;33m:\u001b[0m \u001b[0mtuple\u001b[0m\u001b[1;33m)\u001b[0m\u001b[1;33m:\u001b[0m\u001b[1;33m\u001b[0m\u001b[1;33m\u001b[0m\u001b[0m\n",
      "\u001b[1;32mD:\\Anaconda\\lib\\site-packages\\pandas\\core\\indexing.py\u001b[0m in \u001b[0;36m_getitem_axis\u001b[1;34m(self, key, axis)\u001b[0m\n\u001b[0;32m   1518\u001b[0m             \u001b[0mkey\u001b[0m \u001b[1;33m=\u001b[0m \u001b[0mitem_from_zerodim\u001b[0m\u001b[1;33m(\u001b[0m\u001b[0mkey\u001b[0m\u001b[1;33m)\u001b[0m\u001b[1;33m\u001b[0m\u001b[1;33m\u001b[0m\u001b[0m\n\u001b[0;32m   1519\u001b[0m             \u001b[1;32mif\u001b[0m \u001b[1;32mnot\u001b[0m \u001b[0mis_integer\u001b[0m\u001b[1;33m(\u001b[0m\u001b[0mkey\u001b[0m\u001b[1;33m)\u001b[0m\u001b[1;33m:\u001b[0m\u001b[1;33m\u001b[0m\u001b[1;33m\u001b[0m\u001b[0m\n\u001b[1;32m-> 1520\u001b[1;33m                 \u001b[1;32mraise\u001b[0m \u001b[0mTypeError\u001b[0m\u001b[1;33m(\u001b[0m\u001b[1;34m\"Cannot index by location index with a non-integer key\"\u001b[0m\u001b[1;33m)\u001b[0m\u001b[1;33m\u001b[0m\u001b[1;33m\u001b[0m\u001b[0m\n\u001b[0m\u001b[0;32m   1521\u001b[0m \u001b[1;33m\u001b[0m\u001b[0m\n\u001b[0;32m   1522\u001b[0m             \u001b[1;31m# validate the location\u001b[0m\u001b[1;33m\u001b[0m\u001b[1;33m\u001b[0m\u001b[0m\n",
      "\u001b[1;31mTypeError\u001b[0m: Cannot index by location index with a non-integer key"
     ]
    }
   ],
   "source": [
    "sales.iloc[\"Feb\"][1]"
   ]
  },
  {
   "cell_type": "markdown",
   "metadata": {
    "colab_type": "text",
    "id": "0buFy1l_Ptp6"
   },
   "source": [
    "That's better. "
   ]
  },
  {
   "cell_type": "markdown",
   "metadata": {
    "colab_type": "text",
    "id": "t8y3rFQ1ZnrL"
   },
   "source": [
    "### These are a few of the many ways to extract different values from DataFrames. "
   ]
  }
 ],
 "metadata": {
  "colab": {
   "collapsed_sections": [],
   "name": "Indexing & Subsetting DFs - WORKSHOP NOTES.ipynb",
   "provenance": [
    {
     "file_id": "1UaYBr_VQEBN7zItYDUkWyZcufq8KrXaz",
     "timestamp": 1574190376742
    },
    {
     "file_id": "1hZE9Om8BZjO-2mp_lqVwM4Vlix7stpOu",
     "timestamp": 1567181362211
    },
    {
     "file_id": "1gYE3Gb64a1GtJFdSCtbT8ZKgCyecw17N",
     "timestamp": 1561008760407
    },
    {
     "file_id": "1OZRg4rYXxrHVxOhuCaLnr0a1a4arXbJ0",
     "timestamp": 1560422987513
    },
    {
     "file_id": "14--7Sqk2BasgM9A3JfgEUHDDShkJUeNI",
     "timestamp": 1560417425558
    },
    {
     "file_id": "18Vp28B-7YMjcdeszjEtJQUlWEKIQxdjq",
     "timestamp": 1560410473585
    },
    {
     "file_id": "1l_W74rzq1-4KTxnN3LUWUmbIjWBrEvRK",
     "timestamp": 1560402405234
    },
    {
     "file_id": "1Gj8xFEghBwX8exDkdBWvNSzOUTYlNxI9",
     "timestamp": 1560164255413
    },
    {
     "file_id": "1TeHiJ5s48kWFy5BosIWhjK2MQyMkPHNo",
     "timestamp": 1559546187577
    },
    {
     "file_id": "1f_9CXFJzBvrAePaDr_WYQGHEBS5th53b",
     "timestamp": 1559541190636
    }
   ]
  },
  "kernelspec": {
   "display_name": "Python 3 (ipykernel)",
   "language": "python",
   "name": "python3"
  },
  "language_info": {
   "codemirror_mode": {
    "name": "ipython",
    "version": 3
   },
   "file_extension": ".py",
   "mimetype": "text/x-python",
   "name": "python",
   "nbconvert_exporter": "python",
   "pygments_lexer": "ipython3",
   "version": "3.9.13"
  }
 },
 "nbformat": 4,
 "nbformat_minor": 1
}
