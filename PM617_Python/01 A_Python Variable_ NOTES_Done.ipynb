{
 "cells": [
  {
   "cell_type": "markdown",
   "metadata": {
    "id": "ZvNsvUNNlZbi"
   },
   "source": [
    "---\n",
    "# Crash Course Python for Data Science - Intro to Python  \n",
    "---\n",
    "# 01 - Python Variables & Data Types\n",
    "---\n",
    "\n"
   ]
  },
  {
   "cell_type": "markdown",
   "metadata": {
    "id": "o57NvhYkBjKH"
   },
   "source": [
    "## Variables: The building blocks of Python\n",
    "\n",
    "### What is a variable?\n",
    "Python is one heck of a calculator. But you can imagine how more complex calculations would require us to remember a lot of values. That's where ***variables*** come in!  \n",
    "\n",
    "A variable is a storage unit for different values like numbers or text. Variables must be specific and case sensitive because you call up the value of a variable by using its name. \n",
    "\n"
   ]
  },
  {
   "cell_type": "code",
   "execution_count": 1,
   "metadata": {
    "id": "gTg4J-jCExcZ"
   },
   "outputs": [
    {
     "data": {
      "text/plain": [
       "37"
      ]
     },
     "execution_count": 1,
     "metadata": {},
     "output_type": "execute_result"
    }
   ],
   "source": [
    "# Anything after a hashtag is a comment\n",
    "# and python just ignores it\n",
    "\n",
    "# You can use python as a simple calculator\n",
    "\n",
    "23 + 14"
   ]
  },
  {
   "cell_type": "code",
   "execution_count": 7,
   "metadata": {
    "id": "VoURNkijY3SQ"
   },
   "outputs": [
    {
     "name": "stdout",
     "output_type": "stream",
     "text": [
      "37\n"
     ]
    },
    {
     "data": {
      "text/plain": [
       "74"
      ]
     },
     "execution_count": 7,
     "metadata": {},
     "output_type": "execute_result"
    }
   ],
   "source": [
    "# Or... you can save the data in variables\n",
    "x = 23\n",
    "y = 14\n",
    "\n",
    "z = x + y\n",
    "\n",
    "print(z)\n",
    "z*2"
   ]
  },
  {
   "cell_type": "code",
   "execution_count": 8,
   "metadata": {
    "id": "OF21ttOZ2Xv1"
   },
   "outputs": [
    {
     "data": {
      "text/plain": [
       "int"
      ]
     },
     "execution_count": 8,
     "metadata": {},
     "output_type": "execute_result"
    }
   ],
   "source": [
    "type(x)"
   ]
  },
  {
   "cell_type": "markdown",
   "metadata": {
    "id": "kRT5Xl0wTWvR"
   },
   "source": [
    "In the above cell we created (or *declared*) two variables: *x* and *y*. We did this by simply using an **=** sign much like we would in algebra.  \n",
    "In this example we only used numerical values (these are called ***integers*** or ***ints***). So what happens when you use text values?\n"
   ]
  },
  {
   "cell_type": "code",
   "execution_count": 2,
   "metadata": {
    "id": "MfndtviVcgaO"
   },
   "outputs": [
    {
     "data": {
      "text/plain": [
       "'Grace is running late, again!'"
      ]
     },
     "execution_count": 2,
     "metadata": {},
     "output_type": "execute_result"
    }
   ],
   "source": [
    "# These are called strings:\n",
    "\n",
    "z = 'Grace is '\n",
    "w = \"running late, again!\" \n",
    "\n",
    "# concatenate\n",
    "z + w"
   ]
  },
  {
   "cell_type": "code",
   "execution_count": 3,
   "metadata": {
    "id": "HYIbaIAI34Bb"
   },
   "outputs": [
    {
     "name": "stdout",
     "output_type": "stream",
     "text": [
      "<class 'str'>\n",
      "<class 'str'>\n"
     ]
    }
   ],
   "source": [
    "print(type(z))\n",
    "print(type(w))"
   ]
  },
  {
   "cell_type": "markdown",
   "metadata": {
    "id": "ejTRW_41ccek"
   },
   "source": [
    "Something different happened!\n",
    "\n",
    "When **ints** are added together, Python returns their sum as another int. Text values are referred to as ***strings***. These can be denoted using 'single' or \"double\" quotation marks as you can see above.  \n",
    "\n",
    "When strings are added together, that's called *concatenation*. They're basically just pushed up against together. But remember, spaces are also counted. If you notice, there's no space at the end of the first string. Try adding a space after \"is\" and see what happens.  \n",
    "\n",
    "This is a key principle of Python. *Different* types have *different* behavior.   \n",
    "\n",
    "\n"
   ]
  },
  {
   "cell_type": "markdown",
   "metadata": {
    "id": "RS0x6FysdX3p"
   },
   "source": [
    "Let's try something a bit more realistic. \n",
    "\n",
    "Let's say we're working with personal financial data and we're trying to figure out a budget."
   ]
  },
  {
   "cell_type": "code",
   "execution_count": 5,
   "metadata": {
    "id": "PweN-CTws2EV"
   },
   "outputs": [],
   "source": [
    "# Let's put some numbers together:\n",
    "\n",
    "monthly_income = 5_000\n",
    "\n",
    "# Taxes:\n",
    "tax_rate = 0.184\n",
    "\n",
    "# Expenses\n",
    "rent = 1200\n",
    "food = 320\n",
    "wifi = 100\n",
    "transport = 300\n",
    "pocket_money = 400\n"
   ]
  },
  {
   "cell_type": "code",
   "execution_count": 6,
   "metadata": {
    "id": "8cLKflFz46wd"
   },
   "outputs": [
    {
     "data": {
      "text/plain": [
       "float"
      ]
     },
     "execution_count": 6,
     "metadata": {},
     "output_type": "execute_result"
    }
   ],
   "source": [
    "type(tax_rate)"
   ]
  },
  {
   "cell_type": "markdown",
   "metadata": {
    "id": "YVJNY8_NY240"
   },
   "source": [
    "Notice how that cell didn't have an output? Even though we ran the cell, it had no commands other than assigning values to different variables. If we tried to add something (like in the original example), then there would be an output."
   ]
  },
  {
   "cell_type": "markdown",
   "metadata": {
    "id": "NruI-jojYCLK"
   },
   "source": [
    "Ok. We've created seven variables and assigned each a different numeric value to represent our income, taxes, and expenses for a given month. Let's see how much we have left over after we pay Uncle Sam and cover our expenses. "
   ]
  },
  {
   "cell_type": "code",
   "execution_count": 9,
   "metadata": {
    "id": "cnJ-ZG34YBSl"
   },
   "outputs": [
    {
     "data": {
      "text/plain": [
       "4080.0000000000005"
      ]
     },
     "execution_count": 9,
     "metadata": {},
     "output_type": "execute_result"
    }
   ],
   "source": [
    "# Income, after taxes:\n",
    "after_tax_income = monthly_income * (1 - tax_rate)\n",
    "after_tax_income"
   ]
  },
  {
   "cell_type": "code",
   "execution_count": 10,
   "metadata": {},
   "outputs": [
    {
     "name": "stdout",
     "output_type": "stream",
     "text": [
      "£ 4080.0\n",
      "£ 4080.0\n"
     ]
    }
   ],
   "source": [
    "# format my outcome nicer\n",
    "# £4080.00\n",
    "\n",
    "# Two ways:\n",
    "# Just putting one string next to the other:\n",
    "print('£', round(after_tax_income, 2))\n",
    "\n",
    "# of using `f` for format, only works with python 3.6+\n",
    "print(f'£ {round(after_tax_income, 2)}')"
   ]
  },
  {
   "cell_type": "code",
   "execution_count": 11,
   "metadata": {
    "id": "PGWhJpBYYv4X"
   },
   "outputs": [
    {
     "name": "stdout",
     "output_type": "stream",
     "text": [
      "£ 2320\n"
     ]
    }
   ],
   "source": [
    "# Total expenses\n",
    "expenses = rent + food + wifi + transport + pocket_money\n",
    "print(f'£ {expenses}')"
   ]
  },
  {
   "cell_type": "code",
   "execution_count": 12,
   "metadata": {
    "id": "nIyXoC5IZOO5"
   },
   "outputs": [
    {
     "name": "stdout",
     "output_type": "stream",
     "text": [
      "1760.0000000000005\n",
      "£ 1760.0\n",
      "£  1,760.00\n"
     ]
    }
   ],
   "source": [
    "# What's left?\n",
    "# Different ways of presenting your outcome:\n",
    "\n",
    "print(after_tax_income - expenses)\n",
    "print(f'£ {round(after_tax_income - expenses, 2)}')\n",
    "print('£{:10,.2f}'.format(after_tax_income - expenses)) "
   ]
  },
  {
   "cell_type": "markdown",
   "metadata": {
    "id": "HYVyx-3-aDYH"
   },
   "source": [
    "Not bad. Assuming we saved all of that every month, how long would it take us to have six months of expenses covered in case of an emergency?"
   ]
  },
  {
   "cell_type": "code",
   "execution_count": 13,
   "metadata": {
    "id": "CrEfWg4iZW5x"
   },
   "outputs": [
    {
     "name": "stdout",
     "output_type": "stream",
     "text": [
      "It would take 8 months to save enough for 6 months of expenses.\n"
     ]
    }
   ],
   "source": [
    "# Let's declare a new variable to store that value\n",
    "# max_savings is the maximum I can save each month\n",
    "max_savings = after_tax_income - expenses\n",
    "\n",
    "# Now let's calculate how long it would take \n",
    "# us to have six months of expenses covered in case of an emergency?\n",
    "\n",
    "months = (expenses * 6) / max_savings\n",
    "\n",
    "print(f'It would take {round(months)} months to save enough for 6 months of expenses.')"
   ]
  },
  {
   "cell_type": "markdown",
   "metadata": {
    "id": "v5drj3Gka1aj"
   },
   "source": [
    "Huh...nearly eight months! Guess we better start saving then. "
   ]
  },
  {
   "cell_type": "markdown",
   "metadata": {
    "id": "kugVj2BybgNx"
   },
   "source": [
    "### Operators\n",
    "We just used Python ***operators*** to make those calculations.  \n",
    "\n",
    "*   ***+*** to add\n",
    "*   ***-*** to subtract\n",
    "*   ***/*** to divide\n",
    "\n",
    "\n",
    "There are dozens of operators in Python. These are the more common arithmetic operators. But don't let that scare you. It's all just practice.\n",
    "\n",
    "You can find more operators [in this link](https://www.w3schools.com/python/python_operators.asp)."
   ]
  },
  {
   "cell_type": "markdown",
   "metadata": {
    "id": "7Ztd7VIXeGnD"
   },
   "source": [
    "Now what do you think would happen if you tried to add a string to a number?"
   ]
  },
  {
   "cell_type": "code",
   "execution_count": 14,
   "metadata": {
    "id": "I2MG0L5NeHSC"
   },
   "outputs": [
    {
     "ename": "TypeError",
     "evalue": "can only concatenate str (not \"int\") to str",
     "output_type": "error",
     "traceback": [
      "\u001b[1;31m---------------------------------------------------------------------------\u001b[0m",
      "\u001b[1;31mTypeError\u001b[0m                                 Traceback (most recent call last)",
      "\u001b[1;32m~\\AppData\\Local\\Temp\\ipykernel_5304\\1542421714.py\u001b[0m in \u001b[0;36m<module>\u001b[1;34m\u001b[0m\n\u001b[0;32m      7\u001b[0m \u001b[0mz\u001b[0m \u001b[1;33m=\u001b[0m \u001b[1;34m'Grace is'\u001b[0m\u001b[1;33m\u001b[0m\u001b[1;33m\u001b[0m\u001b[0m\n\u001b[0;32m      8\u001b[0m \u001b[1;33m\u001b[0m\u001b[0m\n\u001b[1;32m----> 9\u001b[1;33m \u001b[0mz\u001b[0m \u001b[1;33m+\u001b[0m \u001b[0mx\u001b[0m\u001b[1;33m\u001b[0m\u001b[1;33m\u001b[0m\u001b[0m\n\u001b[0m",
      "\u001b[1;31mTypeError\u001b[0m: can only concatenate str (not \"int\") to str"
     ]
    }
   ],
   "source": [
    "# Let's try it:\n",
    "# z holds the string \"Grace is\" and x holds the integer \"30\".\n",
    "# So by combining them with the + operator, we should get...\n",
    "# 'Grace is 30', right?\n",
    "\n",
    "x = 30\n",
    "z = 'Grace is'\n",
    "\n",
    "z + x"
   ]
  },
  {
   "cell_type": "markdown",
   "metadata": {
    "id": "G70K_DVoGv41"
   },
   "source": [
    "Wrong. We get a `TypeError`. The error complains that it was expecting a *string*, not an *int*.   \n",
    "We'll need to convert *x* into a string. Here's the easiest way to do it:\n"
   ]
  },
  {
   "cell_type": "code",
   "execution_count": 15,
   "metadata": {
    "id": "-BU0WIvRz99n"
   },
   "outputs": [
    {
     "name": "stdout",
     "output_type": "stream",
     "text": [
      "Grace is 30\n"
     ]
    }
   ],
   "source": [
    "# One way to fix it:\n",
    "print(z,x)"
   ]
  },
  {
   "cell_type": "code",
   "execution_count": 16,
   "metadata": {
    "id": "swWr8CH8Sdmx"
   },
   "outputs": [
    {
     "name": "stdout",
     "output_type": "stream",
     "text": [
      "Grace is 30\n"
     ]
    }
   ],
   "source": [
    "# Another way to fix it for python 3.6 <\n",
    "print(f'{z} {x}')"
   ]
  },
  {
   "cell_type": "code",
   "execution_count": 17,
   "metadata": {
    "id": "VecDocuUGusu"
   },
   "outputs": [
    {
     "data": {
      "text/plain": [
       "'Grace is 30'"
      ]
     },
     "execution_count": 17,
     "metadata": {},
     "output_type": "execute_result"
    }
   ],
   "source": [
    "# We use Python's built-in str() method!\n",
    "\n",
    "z + ' ' + str(x)"
   ]
  },
  {
   "cell_type": "markdown",
   "metadata": {
    "id": "5pFlLAIEIbqo"
   },
   "source": [
    "Now we get what we wanted! "
   ]
  },
  {
   "cell_type": "markdown",
   "metadata": {
    "id": "WsBnIKlXI-w4"
   },
   "source": [
    "## Python Data Types\n",
    "\n",
    "### Strings and ints\n",
    "\n",
    "Let's discuss the different data types in Python. We've covered the first two already:  \n",
    "\n",
    "\n",
    "*   **Strings** - Strings of characters that denote text\n",
    "*   **Integers** - Positive or negative whole numbers with no decimal point\n",
    "\n",
    "\n",
    "But what if we wanted to use decimal points, like in the tax rate example above?\n"
   ]
  },
  {
   "cell_type": "code",
   "execution_count": null,
   "metadata": {
    "id": "_NSQOMpKIAsr"
   },
   "outputs": [],
   "source": [
    "# Python can handle it!\n",
    "# If you pass a variable to the built-in function type(), it will return that variable's data type\n",
    "\n",
    "\n",
    "my_float = 0.000003\n",
    "type(my_float)"
   ]
  },
  {
   "cell_type": "markdown",
   "metadata": {
    "id": "Mji-CmWiNYUz"
   },
   "source": [
    "\n",
    "\n",
    "*   **Floats** - A number that can have an integer part and a fractional part. In other words, a decimal!\n",
    "\n"
   ]
  },
  {
   "cell_type": "code",
   "execution_count": 18,
   "metadata": {
    "id": "IoW6Cw45M-t1"
   },
   "outputs": [
    {
     "data": {
      "text/plain": [
       "(bool, bool)"
      ]
     },
     "execution_count": 18,
     "metadata": {},
     "output_type": "execute_result"
    }
   ],
   "source": [
    "# Then there are booleans:\n",
    "\n",
    "a = True\n",
    "b = False\n",
    "\n",
    "type(a), type(b)"
   ]
  },
  {
   "cell_type": "markdown",
   "metadata": {
    "id": "9y_95simNuL-"
   },
   "source": [
    "\n",
    "*   **Booleans** - Simply yes or no. Booleans will be really useful later on for filtering your data and setting conditions for certain commands to execute. "
   ]
  },
  {
   "cell_type": "code",
   "execution_count": 20,
   "metadata": {
    "id": "q_-77C8iP-tu"
   },
   "outputs": [],
   "source": [
    "# Finally, meet dictionaries:\n",
    "\n",
    "# list of things to do depending on weather\n",
    "activities = {'rain': 'read a book',    # {key:value}\n",
    "              'sunny': 'go for a swim',\n",
    "              'snowy': 'build a fire' \n",
    "             }\n",
    "\n",
    "# Dictionaries can be made with other data types\n",
    "\n",
    "numbers = {'grace': 14564316863185,\n",
    "           'alex': 14564316863185,\n",
    "           'susy': 14564316863185}"
   ]
  },
  {
   "cell_type": "code",
   "execution_count": 21,
   "metadata": {
    "id": "s5BUXOOh7qBK"
   },
   "outputs": [
    {
     "data": {
      "text/plain": [
       "14564316863185"
      ]
     },
     "execution_count": 21,
     "metadata": {},
     "output_type": "execute_result"
    }
   ],
   "source": [
    "# If I want to access grace's number from the dictionary\n",
    "numbers['grace']"
   ]
  },
  {
   "cell_type": "code",
   "execution_count": 22,
   "metadata": {
    "id": "t_wNaTyN72ys"
   },
   "outputs": [
    {
     "data": {
      "text/plain": [
       "'go for a swim'"
      ]
     },
     "execution_count": 22,
     "metadata": {},
     "output_type": "execute_result"
    }
   ],
   "source": [
    "# if I wanna access the activity for then it's sunny\n",
    "activities['sunny']"
   ]
  },
  {
   "cell_type": "code",
   "execution_count": 23,
   "metadata": {},
   "outputs": [
    {
     "data": {
      "text/plain": [
       "dict_keys(['grace', 'alex', 'susy'])"
      ]
     },
     "execution_count": 23,
     "metadata": {},
     "output_type": "execute_result"
    }
   ],
   "source": [
    "# access all keys\n",
    "numbers.keys()"
   ]
  },
  {
   "cell_type": "code",
   "execution_count": 24,
   "metadata": {},
   "outputs": [
    {
     "data": {
      "text/plain": [
       "dict_values([14564316863185, 14564316863185, 14564316863185])"
      ]
     },
     "execution_count": 24,
     "metadata": {},
     "output_type": "execute_result"
    }
   ],
   "source": [
    "# access all values\n",
    "numbers.values()"
   ]
  },
  {
   "cell_type": "code",
   "execution_count": 25,
   "metadata": {
    "id": "T_Hxh6Qn79ZC"
   },
   "outputs": [
    {
     "data": {
      "text/plain": [
       "dict"
      ]
     },
     "execution_count": 25,
     "metadata": {},
     "output_type": "execute_result"
    }
   ],
   "source": [
    "type(numbers)"
   ]
  },
  {
   "cell_type": "markdown",
   "metadata": {
    "id": "jelh0tKwQENH"
   },
   "source": [
    "\n",
    "*   **Dictionaries** - Associating this with that. Dictionaries are made up of paired keys and values (you can see our defined pairs in the example above). They will be a powerful tool to help you organize your data later on."
   ]
  },
  {
   "cell_type": "markdown",
   "metadata": {
    "id": "NUm1ps44OizZ"
   },
   "source": [
    "### Remember: *Different* data types have *different* behaviour:"
   ]
  },
  {
   "cell_type": "code",
   "execution_count": 26,
   "metadata": {
    "id": "ZGF9pJsGNq9d"
   },
   "outputs": [
    {
     "data": {
      "text/plain": [
       "40.5"
      ]
     },
     "execution_count": 26,
     "metadata": {},
     "output_type": "execute_result"
    }
   ],
   "source": [
    "# Integers & floats can be added together arithmetically\n",
    "23 + 17.5"
   ]
  },
  {
   "cell_type": "code",
   "execution_count": 27,
   "metadata": {
    "id": "3JOVNLFsOpnt"
   },
   "outputs": [
    {
     "data": {
      "text/plain": [
       "'acdc'"
      ]
     },
     "execution_count": 27,
     "metadata": {},
     "output_type": "execute_result"
    }
   ],
   "source": [
    "# Strings are concatenated (bunched) together\n",
    "'ac' + 'dc'"
   ]
  },
  {
   "cell_type": "code",
   "execution_count": 28,
   "metadata": {
    "id": "aLwslQHrO9fF"
   },
   "outputs": [
    {
     "data": {
      "text/plain": [
       "1"
      ]
     },
     "execution_count": 28,
     "metadata": {},
     "output_type": "execute_result"
    }
   ],
   "source": [
    "# You can also think of true or false as 1 or 0 (binary)\n",
    "True + False"
   ]
  },
  {
   "cell_type": "markdown",
   "metadata": {
    "id": "Wv0Q_IF0PhK2"
   },
   "source": [
    "### *Weird, right?* Don't worry! As you practice with Python, you'll develop an intuitive grasp of each data type's behaviour. On that note, remember to do your very first Python exercise when you get home!"
   ]
  }
 ],
 "metadata": {
  "colab": {
   "collapsed_sections": [],
   "name": "Python Variables & Data Types -WORKSHOP NOTES.ipynb",
   "provenance": [
    {
     "file_id": "1zd66VIAxDPzdzjI14Ay3SmaiWLoMcTZW",
     "timestamp": 1574171801346
    },
    {
     "file_id": "1Gj8xFEghBwX8exDkdBWvNSzOUTYlNxI9",
     "timestamp": 1566822128546
    },
    {
     "file_id": "1TeHiJ5s48kWFy5BosIWhjK2MQyMkPHNo",
     "timestamp": 1559546187577
    },
    {
     "file_id": "1f_9CXFJzBvrAePaDr_WYQGHEBS5th53b",
     "timestamp": 1559541190636
    }
   ]
  },
  "kernelspec": {
   "display_name": "Python 3 (ipykernel)",
   "language": "python",
   "name": "python3"
  },
  "language_info": {
   "codemirror_mode": {
    "name": "ipython",
    "version": 3
   },
   "file_extension": ".py",
   "mimetype": "text/x-python",
   "name": "python",
   "nbconvert_exporter": "python",
   "pygments_lexer": "ipython3",
   "version": "3.9.13"
  }
 },
 "nbformat": 4,
 "nbformat_minor": 1
}
